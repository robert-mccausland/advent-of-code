{
 "cells": [
  {
   "cell_type": "code",
   "execution_count": 11,
   "metadata": {},
   "outputs": [],
   "source": [
    "inputFile = \"example.txt\""
   ]
  },
  {
   "cell_type": "code",
   "execution_count": 20,
   "metadata": {},
   "outputs": [],
   "source": [
    "inputFile = \"input.txt\""
   ]
  },
  {
   "cell_type": "code",
   "execution_count": 22,
   "metadata": {},
   "outputs": [],
   "source": [
    "def parseData(data):\n",
    "  [direction, size] = data.split(' ')\n",
    "  return (direction, int(size))\n",
    "\n",
    "with open(inputFile, \"r\") as file:\n",
    "    fileData = filter(lambda x: len(x) > 0, file.read().split(\"\\n\"))\n",
    "    input = map(parseData, fileData)"
   ]
  },
  {
   "cell_type": "code",
   "execution_count": 17,
   "metadata": {},
   "outputs": [
    {
     "name": "stdout",
     "output_type": "stream",
     "text": [
      "[2091, 721]\n",
      "1507611\n"
     ]
    }
   ],
   "source": [
    "\n",
    "position = [0, 0]\n",
    "for point in input:\n",
    "    match point[0]:\n",
    "      case 'forward': position[0] += point[1]\n",
    "      case 'down': position[1] += point[1]\n",
    "      case 'up': position[1] -= point[1]\n",
    "\n",
    "print(position)\n",
    "print(position[0] * position[1])"
   ]
  },
  {
   "cell_type": "code",
   "execution_count": 23,
   "metadata": {},
   "outputs": [
    {
     "name": "stdout",
     "output_type": "stream",
     "text": [
      "[2091, 899375]\n",
      "1880593125\n"
     ]
    }
   ],
   "source": [
    "def forward(x):\n",
    "  position[0] += x\n",
    "  position[1] += x * aim\n",
    "\n",
    "position = [0, 0]\n",
    "aim = 0\n",
    "\n",
    "for point in input:\n",
    "    match point[0]:\n",
    "      case 'forward': forward(point[1])\n",
    "      case 'down': aim += point[1]\n",
    "      case 'up': aim -= point[1]\n",
    "\n",
    "print(position)\n",
    "print(position[0] * position[1])"
   ]
  }
 ],
 "metadata": {
  "interpreter": {
   "hash": "63fd5069d213b44bf678585dea6b12cceca9941eaf7f819626cde1f2670de90d"
  },
  "kernelspec": {
   "display_name": "Python 3.9.4 64-bit",
   "language": "python",
   "name": "python3"
  },
  "language_info": {
   "codemirror_mode": {
    "name": "ipython",
    "version": 3
   },
   "file_extension": ".py",
   "mimetype": "text/x-python",
   "name": "python",
   "nbconvert_exporter": "python",
   "pygments_lexer": "ipython3",
   "version": "3.10.1"
  },
  "orig_nbformat": 4
 },
 "nbformat": 4,
 "nbformat_minor": 2
}
