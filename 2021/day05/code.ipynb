{
 "cells": [
  {
   "cell_type": "code",
   "execution_count": 8,
   "metadata": {},
   "outputs": [],
   "source": [
    "INPUT_FILE = \"example.txt\""
   ]
  },
  {
   "cell_type": "code",
   "execution_count": 9,
   "metadata": {},
   "outputs": [],
   "source": [
    "INPUT_FILE = \"input.txt\""
   ]
  },
  {
   "cell_type": "code",
   "execution_count": 10,
   "metadata": {},
   "outputs": [],
   "source": [
    "def parseRow(row):\n",
    "  [start, end] = row.split(\"->\")\n",
    "  return { 'start': parsePair(start), 'end': parsePair(end) }\n",
    "\n",
    "def parsePair(pair):\n",
    "  return tuple(map(lambda x: int(x), pair.strip().split(',')))\n",
    "\n",
    "with open(INPUT_FILE, \"r\") as file:\n",
    "    input = list(map(parseRow, filter(lambda x: len(x) != 0, file.read().split(\"\\n\"))))"
   ]
  },
  {
   "cell_type": "code",
   "execution_count": 11,
   "metadata": {},
   "outputs": [
    {
     "name": "stdout",
     "output_type": "stream",
     "text": [
      "21406\n"
     ]
    }
   ],
   "source": [
    "def makeRange(start, end):\n",
    "  if start > end:\n",
    "    start, end = end, start\n",
    "\n",
    "  return range(start, end + 1)\n",
    "\n",
    "def clamp(value, minValue, maxValue):\n",
    "  return max(minValue, min(value, maxValue))\n",
    "\n",
    "def getLineDirection(line):\n",
    "  return (clamp(line['end'][0] - line['start'][0], -1, 1), clamp(line['end'][1] - line['start'][1], -1, 1))\n",
    "\n",
    "def getCoveredPoints(line):\n",
    "  direction = getLineDirection(line)\n",
    "  current = line['start']\n",
    "  yield current\n",
    "  while current != line['end']:\n",
    "    current = (current[0] + direction[0], current[1] + direction[1])\n",
    "    yield current\n",
    "\n",
    "grid = {}\n",
    "  \n",
    "for line in input:\n",
    "  for coveredPoint in getCoveredPoints(line):\n",
    "    if coveredPoint in grid.keys():\n",
    "      grid[coveredPoint] += 1\n",
    "    else:\n",
    "      grid[coveredPoint] = 1\n",
    "\n",
    "\n",
    "overlaps = len(list(filter(lambda x: x > 1, grid.values())))\n",
    "print(overlaps)\n"
   ]
  }
 ],
 "metadata": {
  "interpreter": {
   "hash": "2be5faf79681da6f2a61fdfdd5405d65d042280f7fba6178067603e3a2925119"
  },
  "kernelspec": {
   "display_name": "Python 3.10.1 64-bit",
   "language": "python",
   "name": "python3"
  },
  "language_info": {
   "codemirror_mode": {
    "name": "ipython",
    "version": 3
   },
   "file_extension": ".py",
   "mimetype": "text/x-python",
   "name": "python",
   "nbconvert_exporter": "python",
   "pygments_lexer": "ipython3",
   "version": "3.10.1"
  },
  "orig_nbformat": 4
 },
 "nbformat": 4,
 "nbformat_minor": 2
}
