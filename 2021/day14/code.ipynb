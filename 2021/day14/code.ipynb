{
 "cells": [
  {
   "cell_type": "code",
   "execution_count": 89,
   "metadata": {},
   "outputs": [],
   "source": [
    "INPUT_FILE = \"example.txt\"\n",
    "STEPS = 40"
   ]
  },
  {
   "cell_type": "code",
   "execution_count": 94,
   "metadata": {},
   "outputs": [],
   "source": [
    "INPUT_FILE = \"input.txt\""
   ]
  },
  {
   "cell_type": "code",
   "execution_count": 95,
   "metadata": {},
   "outputs": [],
   "source": [
    "def parsePairInsertionRule(line):\n",
    "  [pair, new] = map(lambda x: x.strip(), line.split(\"->\"))\n",
    "  pairList = []\n",
    "  pairList[:0] = pair\n",
    "  return tuple(pairList), new\n",
    "\n",
    "with open(INPUT_FILE, \"r\") as file:\n",
    "  lines = file.read().split('\\n')\n",
    "  template = lines[0]\n",
    "\n",
    "  insertionRules = {}  \n",
    "  for pair, new in map(parsePairInsertionRule, filter(lambda x: len(x) != 0, lines[2:])):\n",
    "    insertionRules[pair] = new\n",
    "\n",
    "  input = {\n",
    "    \"template\": template,\n",
    "    \"insertionRules\": insertionRules\n",
    "  }\n"
   ]
  },
  {
   "cell_type": "code",
   "execution_count": 96,
   "metadata": {},
   "outputs": [],
   "source": [
    "import functools\n",
    "\n",
    "def getDiff(occurrences):\n",
    "  values = list(occurrences.values())\n",
    "  values.sort()\n",
    "  return values[-1] - values[0]\n",
    "\n",
    "def getNewFromPair(pair):\n",
    "  if pair in input[\"insertionRules\"]:\n",
    "    return input[\"insertionRules\"][pair]\n",
    "  return None\n",
    "\n",
    "def combineOccurrences(a, b):\n",
    "  for key, item in b.items():\n",
    "    if key in a:\n",
    "      a[key] += item\n",
    "    else:\n",
    "      a[key] = item\n",
    "\n",
    "@functools.cache\n",
    "def expandPair(pair, times):\n",
    "  occurrences = {}\n",
    "  if times == 0:\n",
    "    return occurrences\n",
    "\n",
    "  new = getNewFromPair(pair)\n",
    "  if new != None:\n",
    "    occurrences[new] = 1\n",
    "    combineOccurrences(occurrences, expandPair((pair[0], new), times - 1))\n",
    "    combineOccurrences(occurrences, expandPair((new, pair[1]), times - 1))\n",
    "\n",
    "  return occurrences\n"
   ]
  },
  {
   "cell_type": "code",
   "execution_count": 97,
   "metadata": {},
   "outputs": [
    {
     "name": "stdout",
     "output_type": "stream",
     "text": [
      "{'P': 3178628005225, 'H': 1378718959755, 'V': 2501671713686, 'C': 755642661164, 'B': 1750740691551, 'F': 2014715170153, 'K': 927295863022, 'N': 1322198384438, 'O': 5195084704903, 'S': 1866024773848}\n",
      "4439442043739\n"
     ]
    }
   ],
   "source": [
    "def createPairs(polymer):\n",
    "  for i in range(len(polymer) - 1):\n",
    "    yield (polymer[i], polymer[i + 1])\n",
    "\n",
    "pairs = createPairs(input[\"template\"])\n",
    "occurrences = {}\n",
    "for element in input[\"template\"]:\n",
    "  combineOccurrences(occurrences, { element: 1 })\n",
    "\n",
    "for pair in pairs:\n",
    "  combineOccurrences(occurrences, expandPair(pair, STEPS))\n",
    "\n",
    "print(occurrences)\n",
    "print(getDiff(occurrences))"
   ]
  }
 ],
 "metadata": {
  "interpreter": {
   "hash": "2be5faf79681da6f2a61fdfdd5405d65d042280f7fba6178067603e3a2925119"
  },
  "kernelspec": {
   "display_name": "Python 3.10.1 64-bit",
   "language": "python",
   "name": "python3"
  },
  "language_info": {
   "codemirror_mode": {
    "name": "ipython",
    "version": 3
   },
   "file_extension": ".py",
   "mimetype": "text/x-python",
   "name": "python",
   "nbconvert_exporter": "python",
   "pygments_lexer": "ipython3",
   "version": "3.10.1"
  },
  "orig_nbformat": 4
 },
 "nbformat": 4,
 "nbformat_minor": 2
}
