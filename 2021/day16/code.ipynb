{
 "cells": [
  {
   "cell_type": "code",
   "execution_count": 184,
   "metadata": {},
   "outputs": [],
   "source": [
    "INPUT_FILE = \"example-1.txt\""
   ]
  },
  {
   "cell_type": "code",
   "execution_count": 185,
   "metadata": {},
   "outputs": [],
   "source": [
    "INPUT_FILE = \"example-2.txt\""
   ]
  },
  {
   "cell_type": "code",
   "execution_count": 186,
   "metadata": {},
   "outputs": [],
   "source": [
    "INPUT_FILE = \"example-3.txt\""
   ]
  },
  {
   "cell_type": "code",
   "execution_count": 187,
   "metadata": {},
   "outputs": [],
   "source": [
    "INPUT_FILE = \"example-4.txt\""
   ]
  },
  {
   "cell_type": "code",
   "execution_count": 188,
   "metadata": {},
   "outputs": [],
   "source": [
    "INPUT_FILE = \"example-5.txt\""
   ]
  },
  {
   "cell_type": "code",
   "execution_count": 189,
   "metadata": {},
   "outputs": [],
   "source": [
    "INPUT_FILE = \"example-6.txt\""
   ]
  },
  {
   "cell_type": "code",
   "execution_count": 190,
   "metadata": {},
   "outputs": [],
   "source": [
    "INPUT_FILE = \"example-7.txt\""
   ]
  },
  {
   "cell_type": "code",
   "execution_count": 191,
   "metadata": {},
   "outputs": [],
   "source": [
    "INPUT_FILE = \"example-8.txt\""
   ]
  },
  {
   "cell_type": "code",
   "execution_count": 192,
   "metadata": {},
   "outputs": [],
   "source": [
    "INPUT_FILE = \"input.txt\""
   ]
  },
  {
   "cell_type": "code",
   "execution_count": 193,
   "metadata": {},
   "outputs": [],
   "source": [
    "def hexToBinary(hex):\n",
    "    result = \"\"\n",
    "    for char in hex:\n",
    "        value = int(char, 16)\n",
    "        result += \"{:04b}\".format(value)\n",
    "    return result\n",
    "\n",
    "with open(INPUT_FILE, \"r\") as file:\n",
    "    input = hexToBinary(file.read().strip(\"\\n\"))"
   ]
  },
  {
   "cell_type": "code",
   "execution_count": 194,
   "metadata": {},
   "outputs": [],
   "source": [
    "parsePacket = None\n",
    "\n",
    "def parseLiteralPacket(start):\n",
    "    index = start\n",
    "    number = \"\"\n",
    "    while True:\n",
    "        number += input[index + 1: index + 5]\n",
    "        if input[index] == '0':\n",
    "            break\n",
    "        index += 5\n",
    "\n",
    "    return int(number, 2), index + 5\n",
    "\n",
    "def parseOperatorPacket(start):\n",
    "    def parseChildPacket(start):\n",
    "        childPacket, end = parsePacket(start)\n",
    "        childPackets.append(childPacket)\n",
    "        return end     \n",
    "\n",
    "    lengthTypeId = input[start]\n",
    "    childPackets = []\n",
    "    if lengthTypeId == '0':\n",
    "        index = start + 16\n",
    "        end = index + int(input[start + 1: start + 16], 2)\n",
    "        while index < end:\n",
    "            index = parseChildPacket(index)\n",
    "        return childPackets, end\n",
    "    else:\n",
    "        totalChildPackets = int(input[start + 1: start + 12], 2)\n",
    "        index = start + 12\n",
    "        for _ in range(totalChildPackets):\n",
    "            index = parseChildPacket(index)\n",
    "        return childPackets, index\n",
    "\n",
    "def parsePacket(start=0):\n",
    "    version = int(input[start: start + 3], 2)\n",
    "    typeId = int(input[start + 3: start + 6], 2)\n",
    "    \n",
    "    match typeId:\n",
    "        case 4: content, end = parseLiteralPacket(start + 6)\n",
    "        case _: content, end = parseOperatorPacket(start + 6)\n",
    "\n",
    "    return {\n",
    "        \"version\": version,\n",
    "        \"typeId\": typeId,\n",
    "        \"content\": content\n",
    "    }, end"
   ]
  },
  {
   "cell_type": "code",
   "execution_count": 195,
   "metadata": {},
   "outputs": [
    {
     "data": {
      "text/plain": [
       "871"
      ]
     },
     "execution_count": 195,
     "metadata": {},
     "output_type": "execute_result"
    }
   ],
   "source": [
    "def versionSum(packet):\n",
    "    current = packet['version']\n",
    "    if packet['typeId'] != 4:\n",
    "        current += sum(map(versionSum, packet['content']))\n",
    "    return current\n",
    "\n",
    "\n",
    "packet, end = parsePacket()\n",
    "\n",
    "versionSum(packet)"
   ]
  },
  {
   "cell_type": "code",
   "execution_count": 196,
   "metadata": {},
   "outputs": [],
   "source": [
    "import functools\n",
    "\n",
    "evaluatePacket = None\n",
    "\n",
    "def evaluateSum(packet):\n",
    "    return sum(map(evaluatePacket, packet['content']))\n",
    "\n",
    "def evaluateProduct(packet):\n",
    "    return functools.reduce(lambda x, y: y * x, map(evaluatePacket, packet['content']))\n",
    "\n",
    "def evaluateMinimum(packet):\n",
    "    return min(map(evaluatePacket, packet['content']))\n",
    "\n",
    "def evaluateMaximum(packet):\n",
    "    return max(map(evaluatePacket, packet['content']))\n",
    "\n",
    "def evaluateLiteral(packet):\n",
    "    return packet['content']\n",
    "\n",
    "def evaluateGraterThan(packet):\n",
    "    return 1 if evaluatePacket(packet['content'][0]) > \\\n",
    "        evaluatePacket(packet['content'][1]) else 0\n",
    "\n",
    "def evaluateLessThan(packet):\n",
    "    return 1 if evaluatePacket(packet['content'][0]) < \\\n",
    "        evaluatePacket(packet['content'][1]) else 0\n",
    "\n",
    "def evaluateEqualTo(packet):\n",
    "    return 1 if evaluatePacket(packet['content'][0]) == \\\n",
    "        evaluatePacket(packet['content'][1]) else 0\n",
    "\n",
    "def evaluatePacket(packet):\n",
    "    match packet['typeId']:\n",
    "        case 0: return evaluateSum(packet)\n",
    "        case 1: return evaluateProduct(packet)\n",
    "        case 2: return evaluateMinimum(packet)\n",
    "        case 3: return evaluateMaximum(packet)\n",
    "        case 4: return evaluateLiteral(packet)\n",
    "        case 5: return evaluateGraterThan(packet)\n",
    "        case 6: return evaluateLessThan(packet)\n",
    "        case 7: return evaluateEqualTo(packet)\n"
   ]
  },
  {
   "cell_type": "code",
   "execution_count": 197,
   "metadata": {},
   "outputs": [
    {
     "data": {
      "text/plain": [
       "68703010504"
      ]
     },
     "execution_count": 197,
     "metadata": {},
     "output_type": "execute_result"
    }
   ],
   "source": [
    "packet, end = parsePacket()\n",
    "evaluatePacket(packet)"
   ]
  }
 ],
 "metadata": {
  "interpreter": {
   "hash": "aee8b7b246df8f9039afb4144a1f6fd8d2ca17a180786b69acc140d282b71a49"
  },
  "kernelspec": {
   "display_name": "Python 3.10.1 64-bit",
   "language": "python",
   "name": "python3"
  },
  "language_info": {
   "codemirror_mode": {
    "name": "ipython",
    "version": 3
   },
   "file_extension": ".py",
   "mimetype": "text/x-python",
   "name": "python",
   "nbconvert_exporter": "python",
   "pygments_lexer": "ipython3",
   "version": "3.10.1"
  },
  "orig_nbformat": 4
 },
 "nbformat": 4,
 "nbformat_minor": 2
}
