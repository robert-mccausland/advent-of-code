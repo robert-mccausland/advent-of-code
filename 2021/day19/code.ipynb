{
 "cells": [
  {
   "cell_type": "code",
   "execution_count": 1,
   "metadata": {},
   "outputs": [],
   "source": [
    "def parsePosition(line):\n",
    "    return tuple(map(lambda x: int(x), line.split(\",\")))\n",
    "\n",
    "def getInput(fileName):\n",
    "    with open(fileName, \"r\") as file:\n",
    "        input = []\n",
    "        for line in map(lambda x: x.strip(\"\\n\"), file.readlines()):\n",
    "            if len(line) == 0:\n",
    "                continue\n",
    "\n",
    "            if line.startswith(\"---\"):\n",
    "                scanner = []\n",
    "                input.append(scanner)            \n",
    "            else:\n",
    "                scanner.append(parsePosition(line))\n",
    "\n",
    "        return input"
   ]
  },
  {
   "cell_type": "code",
   "execution_count": 2,
   "metadata": {},
   "outputs": [],
   "source": [
    "def getOrientations():\n",
    "    for axis in range(3):\n",
    "        for direction in [1, -1]:\n",
    "            for rotation in range(4):\n",
    "                forwards = [0, 0, 0]\n",
    "                forwards[axis] = direction\n",
    "                yield {\n",
    "                    'axis': tuple(forwards),\n",
    "                    'angle': rotation\n",
    "                }"
   ]
  },
  {
   "cell_type": "code",
   "execution_count": 3,
   "metadata": {},
   "outputs": [],
   "source": [
    "def rotateOnce(position, axis):\n",
    "    for index, direction in enumerate(axis):\n",
    "        if direction != 0:\n",
    "            break\n",
    "\n",
    "    match index:\n",
    "        case 0: return (position[0], position[2] * -direction, position[1] * direction)\n",
    "        case 1: return (position[2] * direction, position[1], position[0] * -direction)\n",
    "        case 2: return (position[1] * -direction, position[0] * direction, position[2])\n",
    "\n",
    "def orientatePosition(position, orientation, reverse=False):\n",
    "\n",
    "    if isinstance(orientation, list):\n",
    "        if len(orientation) == 0:\n",
    "            return position\n",
    "        return orientatePosition(orientatePosition(position, orientation[0], reverse), orientation[1:], reverse)\n",
    "\n",
    "    result = position\n",
    "    \n",
    "    if reverse:\n",
    "        # Rotate x axis so it alines with normalized x axis\n",
    "        if orientation['axis'][0] == -1:\n",
    "            result = rotateOnce(result, (0, 0, -1))\n",
    "            result = rotateOnce(result, (0, 0, -1))\n",
    "        if orientation['axis'][1] != 0:\n",
    "            result = rotateOnce(result, (0, 0, -orientation['axis'][1]))\n",
    "        elif orientation['axis'][2] != 0:\n",
    "            result = rotateOnce(result, (0, -orientation['axis'][2], 0))\n",
    "\n",
    "        for _ in range(4 - (orientation['angle'] % 4)):\n",
    "            result = rotateOnce(result, orientation['axis'])\n",
    "        return result\n",
    "\n",
    "    # Set rotation of the position to 0\n",
    "    for _ in range(orientation['angle'] % 4):\n",
    "        result = rotateOnce(result, orientation['axis'])\n",
    "\n",
    "    # Rotate x axis so it alines with normalized x axis\n",
    "    if orientation['axis'][0] == -1:\n",
    "        result = rotateOnce(result, (0, 0, 1))\n",
    "        result = rotateOnce(result, (0, 0, 1))\n",
    "    if orientation['axis'][1] != 0:\n",
    "        result = rotateOnce(result, (0, 0, orientation['axis'][1]))\n",
    "    elif orientation['axis'][2] != 0:\n",
    "        result = rotateOnce(result, (0, orientation['axis'][2], 0))\n",
    "\n",
    "    return result"
   ]
  },
  {
   "cell_type": "code",
   "execution_count": 4,
   "metadata": {},
   "outputs": [
    {
     "name": "stdout",
     "output_type": "stream",
     "text": [
      "(0, {'axis': (-1, 0, 0), 'angle': 1})\n",
      "(1, {'axis': (0, 0, 1), 'angle': 0})\n",
      "(2, {'axis': (0, 0, 1), 'angle': 2})\n",
      "(3, {'axis': (0, 0, -1), 'angle': 1})\n",
      "4 out of 4 test beacons passed\n"
     ]
    }
   ],
   "source": [
    "# Code to test the orentation code works\n",
    "\n",
    "input = getInput('example-2.txt')\n",
    "origin = input[0]\n",
    "\n",
    "def countMatches(a, b):\n",
    "    result = 0\n",
    "    for i in range(min(len(a), len(b))):\n",
    "        if a[i] == b[i]:\n",
    "            result += 1\n",
    "\n",
    "    return result\n",
    "\n",
    "testResults = {}\n",
    "for index, scanner in enumerate(input[1:]):\n",
    "    for orientation in getOrientations():\n",
    "        orientated = list(map(lambda x: orientatePosition(x, orientation), scanner))\n",
    "        matchCount = countMatches(origin, orientated)\n",
    "        if matchCount == len(origin):\n",
    "            testResults[index] = orientation\n",
    "\n",
    "for testResult in testResults.items():\n",
    "    print(testResult)\n",
    "print(f'{len(testResults)} out of {len(input[1:])} test beacons passed')"
   ]
  },
  {
   "cell_type": "code",
   "execution_count": 5,
   "metadata": {},
   "outputs": [],
   "source": [
    "def getMatches(origin, beacons):\n",
    "    result = []\n",
    "    for beacon in beacons:\n",
    "        if beacon in origin:\n",
    "            result.append(beacon)\n",
    "    return result\n",
    "\n",
    "def calculateRelativePositions(scanners):\n",
    "    def getAbsolutePosition(scannerIndex, previous=None):\n",
    "        parents = transforms[scannerIndex]\n",
    "        if 0 in parents:\n",
    "            offset, scannerRotation, matches = parents[0]\n",
    "            return offset, [scannerRotation], matches\n",
    "\n",
    "        for parentIndex in parents:\n",
    "            if previous != None and parentIndex in previous:\n",
    "                continue\n",
    "            newPrevious = set([scannerIndex])\n",
    "            if previous != None:\n",
    "                newPrevious.update(previous)\n",
    "            result = getAbsolutePosition(parentIndex, newPrevious)\n",
    "            if result == None:\n",
    "                continue\n",
    "\n",
    "            offset, scannerRotation, matches = parents[parentIndex]\n",
    "            parentOffset, parentRotations, _ = result\n",
    "            rotatedOffset = orientatePosition(offset, parentRotations)\n",
    "            absoluteOffset = (parentOffset[0] + rotatedOffset[0], parentOffset[1] + rotatedOffset[1], parentOffset[2] + rotatedOffset[2])\n",
    "            return absoluteOffset, [scannerRotation] + parentRotations, list(map(lambda x: orientatePosition(x, parentRotations), matches))\n",
    "            \n",
    "    transforms = {}\n",
    "    for i in range(len(scanners)):\n",
    "        transforms[i] = {}\n",
    "\n",
    "    for originIndex in range(len(scanners)):\n",
    "        origin = scanners[originIndex]\n",
    "        originSet = set(origin)\n",
    "        for index, beacons in enumerate(scanners):\n",
    "            if index == originIndex:\n",
    "                continue\n",
    "            for orientation in getOrientations():\n",
    "                orientatedBeacons = list(map(lambda x: orientatePosition(x, orientation), beacons))\n",
    "                for beacon in orientatedBeacons:\n",
    "                    for targetBeacon in origin:\n",
    "                        offset = (targetBeacon[0] - beacon[0], targetBeacon[1] - beacon[1], targetBeacon[2] - beacon[2])\n",
    "                        offsetBeacons = list(map(lambda x: (x[0] + offset[0], x[1] + offset[1], x[2] + offset[2]), orientatedBeacons))\n",
    "                        matches = getMatches(originSet, offsetBeacons)\n",
    "                        if len(matches) >= 12:\n",
    "                            transforms[index][originIndex] = (offset, orientation, matches)\n",
    "                            break\n",
    "    positions = {}\n",
    "    for scanner in range(len(scanners)):\n",
    "        positions[scanner] = getAbsolutePosition(scanner)\n",
    "    return positions\n"
   ]
  },
  {
   "cell_type": "code",
   "execution_count": 6,
   "metadata": {},
   "outputs": [],
   "source": [
    "def getBeaconCount(input):\n",
    "    relativePositions = calculateRelativePositions(input)\n",
    "    beacons = set()\n",
    "    for i, scanner in enumerate(input):\n",
    "        offset, rotations, _ = relativePositions[i]\n",
    "        rotatedBeaconPositions = map(lambda x: orientatePosition(x, rotations), scanner)\n",
    "        absoluteBeaconPositions = map(lambda x: (x[0] + offset[0], x[1] + offset[1], x[2] + offset[2]), rotatedBeaconPositions)\n",
    "        beacons.update(absoluteBeaconPositions)\n",
    "    return len(beacons)"
   ]
  },
  {
   "cell_type": "code",
   "execution_count": 7,
   "metadata": {},
   "outputs": [
    {
     "name": "stdout",
     "output_type": "stream",
     "text": [
      "0: (0, 0, 0)            Correct\n",
      "1: (68, -1246, -43)     Correct\n",
      "2: (1105, -1205, 1229)  Correct\n",
      "3: (-92, -2380, -20)    Correct\n",
      "4: (-20, -1133, 1061)   Correct\n"
     ]
    }
   ],
   "source": [
    "input = getInput('example.txt')\n",
    "\n",
    "results = calculateRelativePositions(input)\n",
    "expected = {\n",
    "    0: (0, 0, 0),\n",
    "    1: (68, -1246, -43),\n",
    "    2: (1105, -1205, 1229),\n",
    "    3: (-92, -2380, -20),\n",
    "    4: (-20, -1133, 1061)\n",
    "}\n",
    "\n",
    "items = list(results.items())\n",
    "items.sort(key=lambda x: x[0])\n",
    "for key, value in items:\n",
    "    print(f'{key}: {str(\"None\" if value is None else value[0]): <20} {\"Correct\" if value is not None and expected[key] == value[0] else \"Should be: \" + str(expected[key])}')"
   ]
  },
  {
   "cell_type": "code",
   "execution_count": 8,
   "metadata": {},
   "outputs": [
    {
     "data": {
      "text/plain": [
       "79"
      ]
     },
     "execution_count": 8,
     "metadata": {},
     "output_type": "execute_result"
    }
   ],
   "source": [
    "getBeaconCount(getInput('example.txt'))"
   ]
  },
  {
   "cell_type": "code",
   "execution_count": 9,
   "metadata": {},
   "outputs": [
    {
     "data": {
      "text/plain": [
       "332"
      ]
     },
     "execution_count": 9,
     "metadata": {},
     "output_type": "execute_result"
    }
   ],
   "source": [
    "getBeaconCount(getInput('input.txt'))"
   ]
  },
  {
   "cell_type": "code",
   "execution_count": 10,
   "metadata": {},
   "outputs": [],
   "source": [
    "def getManhattenDistance(a, b):\n",
    "    return abs(a[0] - b[0]) + abs(a[1] - b[1]) + abs(a[2] - b[2])\n",
    "\n",
    "\n",
    "def getLargestManhattenDistance(input):\n",
    "    points = list(map(lambda x: x[0], calculateRelativePositions(input).values()))\n",
    "    largest = 0\n",
    "    for i in range(len(points)):\n",
    "        for j in range(len(points)):\n",
    "            current = getManhattenDistance(points[i], points[j])\n",
    "            if current > largest:\n",
    "                largest = current\n",
    "    return largest"
   ]
  },
  {
   "cell_type": "code",
   "execution_count": 11,
   "metadata": {},
   "outputs": [
    {
     "data": {
      "text/plain": [
       "3621"
      ]
     },
     "execution_count": 11,
     "metadata": {},
     "output_type": "execute_result"
    }
   ],
   "source": [
    "getLargestManhattenDistance(getInput('example.txt'))"
   ]
  },
  {
   "cell_type": "code",
   "execution_count": 12,
   "metadata": {},
   "outputs": [
    {
     "data": {
      "text/plain": [
       "8507"
      ]
     },
     "execution_count": 12,
     "metadata": {},
     "output_type": "execute_result"
    }
   ],
   "source": [
    "getLargestManhattenDistance(getInput('input.txt'))"
   ]
  }
 ],
 "metadata": {
  "interpreter": {
   "hash": "aee8b7b246df8f9039afb4144a1f6fd8d2ca17a180786b69acc140d282b71a49"
  },
  "kernelspec": {
   "display_name": "Python 3.10.1 64-bit",
   "language": "python",
   "name": "python3"
  },
  "language_info": {
   "codemirror_mode": {
    "name": "ipython",
    "version": 3
   },
   "file_extension": ".py",
   "mimetype": "text/x-python",
   "name": "python",
   "nbconvert_exporter": "python",
   "pygments_lexer": "ipython3",
   "version": "3.10.1"
  },
  "orig_nbformat": 4
 },
 "nbformat": 4,
 "nbformat_minor": 2
}
