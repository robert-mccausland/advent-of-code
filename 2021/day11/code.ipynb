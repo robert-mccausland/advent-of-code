{
 "cells": [
  {
   "cell_type": "code",
   "execution_count": 56,
   "metadata": {},
   "outputs": [],
   "source": [
    "INPUT_FILE = \"example-1.txt\"\n",
    "STEPS = 2"
   ]
  },
  {
   "cell_type": "code",
   "execution_count": 65,
   "metadata": {},
   "outputs": [],
   "source": [
    "INPUT_FILE = \"example-2.txt\"\n",
    "STEPS = 100"
   ]
  },
  {
   "cell_type": "code",
   "execution_count": 69,
   "metadata": {},
   "outputs": [],
   "source": [
    "INPUT_FILE = \"input.txt\"\n",
    "STEPS = 100"
   ]
  },
  {
   "cell_type": "code",
   "execution_count": 75,
   "metadata": {},
   "outputs": [],
   "source": [
    "def parseLine(line):\n",
    "  lineElements = []\n",
    "  lineElements[:0] = line\n",
    "  return list(map(lambda x: int(x), lineElements))\n",
    "\n",
    "with open(INPUT_FILE, \"r\") as file:\n",
    "  lines = list(filter(lambda x: len(x) != 0, file.read().split('\\n')))\n",
    "  input = list(map(parseLine, lines))"
   ]
  },
  {
   "cell_type": "code",
   "execution_count": 73,
   "metadata": {},
   "outputs": [],
   "source": [
    "def isInRange(position):\n",
    "  (x, y) = position\n",
    "  return x >= 0 and x < len(input) and y >= 0 and y < len(input[x])\n",
    "\n",
    "def getAdjacent(position):\n",
    "  for i in range(-1, 2):\n",
    "    for j in range(-1, 2):\n",
    "      if (i,j) != (0,0):\n",
    "        result = (position[0] + i, position[1] + j)\n",
    "        if isInRange(result):\n",
    "          yield result\n",
    "\n",
    "def simulateStep():\n",
    "  for i in range(len(input)):\n",
    "    for j in range(len(input[i])):\n",
    "      input[i][j] += 1\n",
    "\n",
    "  flashers = set()\n",
    "  shouldCheckAgain = True\n",
    "  while shouldCheckAgain:\n",
    "    shouldCheckAgain = False\n",
    "    for i in range(len(input)):\n",
    "      for j in range(len(input[i])):\n",
    "        if input[i][j] > 9:\n",
    "          if (i,j) not in flashers:\n",
    "            flashers.add((i,j))\n",
    "            input[i][j] = 0\n",
    "            for adjacent in filter(lambda x: x not in flashers, getAdjacent((i, j))):\n",
    "              input[adjacent[0]][adjacent[1]] += 1\n",
    "              shouldCheckAgain = True\n",
    "  \n",
    "  return flashers"
   ]
  },
  {
   "cell_type": "code",
   "execution_count": 61,
   "metadata": {},
   "outputs": [
    {
     "name": "stdout",
     "output_type": "stream",
     "text": [
      "1705\n"
     ]
    }
   ],
   "source": [
    "flashes = 0\n",
    "for _ in range(STEPS):\n",
    "  flashes += len(simulateStep())\n",
    "\n",
    "print(flashes)"
   ]
  },
  {
   "cell_type": "code",
   "execution_count": 76,
   "metadata": {},
   "outputs": [
    {
     "name": "stdout",
     "output_type": "stream",
     "text": [
      "265\n"
     ]
    }
   ],
   "source": [
    "total = sum(map(lambda x: len(x), input))\n",
    "\n",
    "i = 0\n",
    "while True:\n",
    "  i += 1\n",
    "  flashes = simulateStep()\n",
    "  if len(flashes) == total:\n",
    "    break\n",
    "\n",
    "print(i)"
   ]
  }
 ],
 "metadata": {
  "interpreter": {
   "hash": "2be5faf79681da6f2a61fdfdd5405d65d042280f7fba6178067603e3a2925119"
  },
  "kernelspec": {
   "display_name": "Python 3.10.1 64-bit",
   "language": "python",
   "name": "python3"
  },
  "language_info": {
   "codemirror_mode": {
    "name": "ipython",
    "version": 3
   },
   "file_extension": ".py",
   "mimetype": "text/x-python",
   "name": "python",
   "nbconvert_exporter": "python",
   "pygments_lexer": "ipython3",
   "version": "3.10.1"
  },
  "orig_nbformat": 4
 },
 "nbformat": 4,
 "nbformat_minor": 2
}
