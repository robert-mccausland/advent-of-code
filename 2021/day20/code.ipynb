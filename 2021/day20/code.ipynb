{
 "cells": [
  {
   "cell_type": "code",
   "execution_count": 191,
   "metadata": {},
   "outputs": [],
   "source": [
    "def data(cls):\n",
    "    def _repr(self):\n",
    "        return str(self.__dict__)\n",
    "\n",
    "    def _hash(self):\n",
    "        return hash(repr(self))\n",
    "\n",
    "    def _eq(self, other):\n",
    "        if not isinstance(other, type(self)):\n",
    "            return False\n",
    "        for key in self.__dict__:\n",
    "            if key not in other.__dict__:\n",
    "                return False\n",
    "            if self.__dict__[key] != other.__dict__[key]:\n",
    "                return False\n",
    "        return True\n",
    "\n",
    "    setattr(cls, '__repr__', _repr)\n",
    "    setattr(cls, '__hash__', _hash)\n",
    "    setattr(cls, '__eq__', _eq)\n",
    "    return cls\n"
   ]
  },
  {
   "cell_type": "code",
   "execution_count": 192,
   "metadata": {},
   "outputs": [],
   "source": [
    "@data\n",
    "class Input:\n",
    "  def __init__(self, fileName):\n",
    "    with open(fileName, \"r\") as file:\n",
    "      lines = file.readlines()\n",
    "      self.algorithm = lines[0]\n",
    "      self.image = tuple(map(lambda line: line.strip('\\n'), filter(lambda line: len(line) != 0, lines[2:])))"
   ]
  },
  {
   "cell_type": "code",
   "execution_count": 193,
   "metadata": {},
   "outputs": [],
   "source": [
    "def enhancePixel(image, algorithm, pixelPosition, outOfRangePixelValue):\n",
    "  def getConsideredPositions():\n",
    "    for x in range(-1, 2):\n",
    "      for y in range(-1, 2):\n",
    "        yield (pixelPosition[0] + x, pixelPosition[1] + y)\n",
    "\n",
    "  def getPixelValue(position):\n",
    "    if position[0] >= 0 and position[0] < len(image)\\\n",
    "      and position[1] >= 0 and position[1] < len (image[position[0]]):\n",
    "      return image[position[0]][position[1]]\n",
    "    else:\n",
    "      return outOfRangePixelValue\n",
    "\n",
    "  consideredPixels = ''.join(map(getPixelValue, getConsideredPositions()))\n",
    "  number = int(consideredPixels.replace('.', '0').replace('#', '1'), 2)\n",
    "  return algorithm[number]"
   ]
  },
  {
   "cell_type": "code",
   "execution_count": 194,
   "metadata": {},
   "outputs": [],
   "source": [
    "def enhanceImage(image, algorithm, outOfRangePixelValue):\n",
    "  enhanced = []\n",
    "  for x in range(-1, len(image) + 1):\n",
    "    row = ''\n",
    "    for y in range(-1, len(image[0]) + 1):\n",
    "      row += enhancePixel(image, algorithm, (x, y), outOfRangePixelValue)\n",
    "    enhanced.append(row)\n",
    "  return tuple(enhanced)"
   ]
  },
  {
   "cell_type": "code",
   "execution_count": 195,
   "metadata": {},
   "outputs": [],
   "source": [
    "def enhanceImageMultipleTimes(image, algorithm, times):\n",
    "  outOfRangePixelValue = '.'\n",
    "  enhanced = image\n",
    "  for _ in range(times):\n",
    "    enhanced = enhanceImage(enhanced, algorithm, outOfRangePixelValue)\n",
    "\n",
    "    # Out of range pixels will turn bright on this enhance\n",
    "    if outOfRangePixelValue == '.' and algorithm[0] == '#':\n",
    "      outOfRangePixelValue = '#'\n",
    "\n",
    "    # Out of range pixels will turn dark on this enhance\n",
    "    elif outOfRangePixelValue == '#' and algorithm[511] == '.':\n",
    "      outOfRangePixelValue = '.'\n",
    "\n",
    "  return enhanced"
   ]
  },
  {
   "cell_type": "code",
   "execution_count": 196,
   "metadata": {},
   "outputs": [
    {
     "name": "stdout",
     "output_type": "stream",
     "text": [
      "5301\n"
     ]
    }
   ],
   "source": [
    "input = Input('input.txt')\n",
    "enhanced = enhanceImageMultipleTimes(input.image, input.algorithm, 50)\n",
    "print(''.join(enhanced).count('#'))\n"
   ]
  }
 ],
 "metadata": {
  "interpreter": {
   "hash": "2be5faf79681da6f2a61fdfdd5405d65d042280f7fba6178067603e3a2925119"
  },
  "kernelspec": {
   "display_name": "Python 3.10.1 64-bit",
   "language": "python",
   "name": "python3"
  },
  "language_info": {
   "codemirror_mode": {
    "name": "ipython",
    "version": 3
   },
   "file_extension": ".py",
   "mimetype": "text/x-python",
   "name": "python",
   "nbconvert_exporter": "python",
   "pygments_lexer": "ipython3",
   "version": "3.10.1"
  },
  "orig_nbformat": 4
 },
 "nbformat": 4,
 "nbformat_minor": 2
}
