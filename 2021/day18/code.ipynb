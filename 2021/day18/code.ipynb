{
 "cells": [
  {
   "cell_type": "code",
   "execution_count": 132,
   "metadata": {},
   "outputs": [],
   "source": [
    "\n",
    "def parseNumber(line, start=0):\n",
    "    if line[start] == '[':\n",
    "        return parsePair(line, start)\n",
    "    else:\n",
    "        return int(line[start]), start + 1\n",
    "\n",
    "def parsePair(line, start):\n",
    "    first, middle = parseNumber(line, start + 1)\n",
    "    second, end = parseNumber(line, middle + 1)\n",
    "    \n",
    "    while end < len(line) and line[end] == ']':\n",
    "        end += 1\n",
    "    return [first, second], end\n",
    "\n",
    "def getInput(inputFile):\n",
    "    with open(inputFile, \"r\") as file:\n",
    "        line = file.read().split('\\n')\n",
    "        return map(lambda x: parseNumber(x)[0], filter(lambda x: len(x) != 0, line))"
   ]
  },
  {
   "cell_type": "code",
   "execution_count": 133,
   "metadata": {},
   "outputs": [],
   "source": [
    "def getValueAtPath(number, path):\n",
    "    current = number\n",
    "    for element in path:\n",
    "        if isinstance(current, int):\n",
    "            return None\n",
    "        current = current[element]\n",
    "    return current\n",
    "\n",
    "def allValues(number):\n",
    "    path = []\n",
    "\n",
    "    # Find the first scalar in the number\n",
    "    while not isinstance(getValueAtPath(number, path), (int, type(None))):\n",
    "        path.append(0)\n",
    "\n",
    "    # Iterate though the numbers\n",
    "    while path != None:\n",
    "        yield getValueAtPath(number, path), path\n",
    "        path = getPathOfRightNumber(number, path)\n",
    "\n",
    "def checkNumberForNestedPairs(number, depth, path=None):\n",
    "    if path == None:\n",
    "        path = []\n",
    "        result = checkNumberForNestedPairs(number, depth, path)\n",
    "        return result, path\n",
    "\n",
    "    if isinstance(number, int):\n",
    "        return False\n",
    "\n",
    "    if depth == 0:\n",
    "        return True\n",
    "\n",
    "    if isinstance(number, int):\n",
    "        return False\n",
    "\n",
    "    path.append(0)\n",
    "    if checkNumberForNestedPairs(number[0], depth - 1, path):\n",
    "        return True\n",
    "    \n",
    "    path.pop()\n",
    "    path.append(1)\n",
    "    if checkNumberForNestedPairs(number[1], depth - 1, path):\n",
    "        return True\n",
    "    path.pop()\n",
    "\n",
    "    return False\n",
    "\n",
    "def checkNumberForLargeScalars(number, maximum):\n",
    "    for scalar, path in allValues(number):\n",
    "        if scalar > maximum:\n",
    "            return True, path\n",
    "    return False, None\n",
    "\n",
    "def getPathOfLeftNumber(number, path):\n",
    "    result = path[:]\n",
    "\n",
    "    # Unwind the path until we find a pair we are on the right hand side of\n",
    "    while len(result) > 0 and result[-1] != 1:\n",
    "        result.pop()\n",
    "\n",
    "    if len(result) == 0:\n",
    "        return None\n",
    "\n",
    "    # Switch the end of the path to the left hand side\n",
    "    result[-1] = 0\n",
    "\n",
    "    # Keep taking the right hand side until we find a scalar value\n",
    "    while not isinstance(getValueAtPath(number, result), (int, type(None))):\n",
    "        result.append(1)\n",
    "\n",
    "    return result\n",
    "        \n",
    "def getPathOfRightNumber(number, path):\n",
    "    result = path[:]\n",
    "\n",
    "    # Unwind the path until we find a pair we are on the left hand side of\n",
    "    while len(result) > 0 and result[-1] != 0:\n",
    "        result.pop()\n",
    "\n",
    "    if len(result) == 0:\n",
    "        return None\n",
    "\n",
    "    # Switch the end of the path to the right hand side\n",
    "    result[-1] = 1\n",
    "\n",
    "    # Keep taking the left hand side until we find a scalar value\n",
    "    while not isinstance(getValueAtPath(number, result), (int, type(None))):\n",
    "        result.append(0)\n",
    "\n",
    "    return result\n",
    "\n",
    "def explodePair(number, path):\n",
    "    pair = getValueAtPath(number, path)\n",
    "    left = getPathOfLeftNumber(number, path)\n",
    "    right = getPathOfRightNumber(number, path)\n",
    "\n",
    "    if left != None:\n",
    "        getValueAtPath(number, left[:-1])[left[-1]] += pair[0]\n",
    "\n",
    "    if right != None:\n",
    "        getValueAtPath(number, right[:-1])[right[-1]] += pair[1]\n",
    "    \n",
    "    getValueAtPath(number, path[:-1])[path[-1]] = 0\n",
    "\n",
    "def splitNumber(number, path):\n",
    "    value = getValueAtPath(number, path)\n",
    "    pair = [value // 2, value - value // 2]\n",
    "    getValueAtPath(number, path[:-1])[path[-1]] = pair\n",
    "\n",
    "def reduceNumber(number):\n",
    "    while True:\n",
    "        shouldExplode, path = checkNumberForNestedPairs(number, 4)\n",
    "        if shouldExplode:\n",
    "            explodePair(number, path)\n",
    "            continue\n",
    "        shouldSplit, path = checkNumberForLargeScalars(number, 9)\n",
    "        if shouldSplit:\n",
    "            splitNumber(number, path)\n",
    "            continue\n",
    "        break\n",
    "\n",
    "def addNumbers(a, b):\n",
    "    result = [a, b]\n",
    "    reduceNumber(result)\n",
    "    return result\n",
    "\n",
    "def findMagnitude(number):\n",
    "    if isinstance(number, int):\n",
    "        return number\n",
    "    else:\n",
    "        return 3*findMagnitude(number[0]) + 2*findMagnitude(number[1])"
   ]
  },
  {
   "cell_type": "code",
   "execution_count": 134,
   "metadata": {},
   "outputs": [
    {
     "name": "stdout",
     "output_type": "stream",
     "text": [
      "[[[[[9, 8], 1], 2], 3], 4]                         -> [[[[0, 9], 2], 3], 4]\n",
      "[7, [6, [5, [4, [3, 2]]]]]                         -> [7, [6, [5, [7, 0]]]]\n",
      "[[6, [5, [4, [3, 2]]]], 1]                         -> [[6, [5, [7, 0]]], 3]\n",
      "[[3, [2, [1, [7, 3]]]], [6, [5, [4, [3, 2]]]]]     -> [[3, [2, [8, 0]]], [9, [5, [4, [3, 2]]]]]\n",
      "[[3, [2, [8, 0]]], [9, [5, [4, [3, 2]]]]]          -> [[3, [2, [8, 0]]], [9, [5, [7, 0]]]]\n"
     ]
    }
   ],
   "source": [
    "for value in getInput(\"example-1.txt\"):\n",
    "    success, path = checkNumberForNestedPairs(value, 4)\n",
    "    if success:\n",
    "        old = str(value)\n",
    "        explodePair(value, path)\n",
    "        print(f'{old: <50} -> {value}')"
   ]
  },
  {
   "cell_type": "code",
   "execution_count": 135,
   "metadata": {},
   "outputs": [],
   "source": [
    "import functools\n",
    "\n",
    "def partOne(inputFile):\n",
    "    finalSum = functools.reduce(addNumbers, getInput(inputFile))\n",
    "    return findMagnitude(finalSum)"
   ]
  },
  {
   "cell_type": "code",
   "execution_count": 136,
   "metadata": {},
   "outputs": [
    {
     "name": "stdout",
     "output_type": "stream",
     "text": [
      "4140\n",
      "4202\n"
     ]
    }
   ],
   "source": [
    "print(partOne(\"example-2.txt\"))\n",
    "print(partOne(\"input.txt\"))"
   ]
  },
  {
   "cell_type": "code",
   "execution_count": 137,
   "metadata": {},
   "outputs": [],
   "source": [
    "def getAllCombinations(inputFile):\n",
    "    # We end up mutating the numbers when we add them, so I have coded around this here\n",
    "    # defiantly not ideal but good enough for now :)\n",
    "    numbers = list(getInput(inputFile))\n",
    "    for i in range(len(numbers)):\n",
    "        for j in range(len(numbers)):\n",
    "            if i != j:\n",
    "                a = list(getInput(inputFile))[i]\n",
    "                b = list(getInput(inputFile))[j]\n",
    "                yield findMagnitude(addNumbers(a, b))\n",
    "\n",
    "def partTwo(inputFile):\n",
    "    return max(getAllCombinations(inputFile))\n",
    "\n"
   ]
  },
  {
   "cell_type": "code",
   "execution_count": 139,
   "metadata": {},
   "outputs": [
    {
     "name": "stdout",
     "output_type": "stream",
     "text": [
      "3993\n",
      "4779\n"
     ]
    }
   ],
   "source": [
    "print(partTwo(\"example-2.txt\"))\n",
    "print(partTwo(\"input.txt\"))"
   ]
  }
 ],
 "metadata": {
  "interpreter": {
   "hash": "aee8b7b246df8f9039afb4144a1f6fd8d2ca17a180786b69acc140d282b71a49"
  },
  "kernelspec": {
   "display_name": "Python 3.10.1 64-bit",
   "language": "python",
   "name": "python3"
  },
  "language_info": {
   "codemirror_mode": {
    "name": "ipython",
    "version": 3
   },
   "file_extension": ".py",
   "mimetype": "text/x-python",
   "name": "python",
   "nbconvert_exporter": "python",
   "pygments_lexer": "ipython3",
   "version": "3.10.1"
  },
  "orig_nbformat": 4
 },
 "nbformat": 4,
 "nbformat_minor": 2
}
