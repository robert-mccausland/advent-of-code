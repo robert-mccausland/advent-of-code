{
 "cells": [
  {
   "cell_type": "code",
   "execution_count": 1,
   "metadata": {},
   "outputs": [],
   "source": [
    "INPUT_FILE = \"example.txt\""
   ]
  },
  {
   "cell_type": "code",
   "execution_count": 12,
   "metadata": {},
   "outputs": [
    {
     "name": "stdout",
     "output_type": "stream",
     "text": [
      "{'dots': [('6', '10'), ('0', '14'), ('9', '10'), ('0', '3'), ('10', '4'), ('4', '11'), ('6', '0'), ('6', '12'), ('4', '1'), ('0', '13'), ('10', '12'), ('3', '4'), ('3', '0'), ('8', '4'), ('1', '10'), ('2', '14'), ('8', '10'), ('9', '0')], 'folds': [('y', '7'), ('x', '5')]}\n"
     ]
    }
   ],
   "source": [
    "def parseDot(line):\n",
    "  return tuple(line.split(\",\"))\n",
    "\n",
    "def parseFold(line):\n",
    "  return tuple(line[11:].split(\"=\"))\n",
    "\n",
    "with open(INPUT_FILE, \"r\") as file:\n",
    "  lines = file.read().split('\\n')\n",
    "\n",
    "  dots = []\n",
    "  folds = []\n",
    "  parseDots = True\n",
    "  for line in lines:\n",
    "    if len(line) == 0:\n",
    "      parseDots = False\n",
    "      continue\n",
    "    if parseDots:\n",
    "      dots.append(parseDot(line))\n",
    "    else:\n",
    "      folds.append(parseFold(line))\n",
    "\n",
    "  input = {\n",
    "    \"dots\": dots,\n",
    "    \"folds\": folds\n",
    "  }\n"
   ]
  },
  {
   "cell_type": "code",
   "execution_count": null,
   "metadata": {},
   "outputs": [],
   "source": [
    "def reflectValue(value, reflectionPoint):\n",
    "  if value < reflectionPoint:\n",
    "    return value\n",
    "  else:\n",
    "    return reflectionPoint - abs(value - reflectionPoint)\n",
    "\n",
    "def foldDot(dot, fold):\n",
    "  match fold[0]:\n",
    "    case \"x\": return (reflectValue(dot[0], fold[1]), dot[1])\n",
    "    case \"y\":return (dot[0], reflectValue(dot[1], fold[1]))"
   ]
  }
 ],
 "metadata": {
  "interpreter": {
   "hash": "2be5faf79681da6f2a61fdfdd5405d65d042280f7fba6178067603e3a2925119"
  },
  "kernelspec": {
   "display_name": "Python 3.10.1 64-bit",
   "language": "python",
   "name": "python3"
  },
  "language_info": {
   "codemirror_mode": {
    "name": "ipython",
    "version": 3
   },
   "file_extension": ".py",
   "mimetype": "text/x-python",
   "name": "python",
   "nbconvert_exporter": "python",
   "pygments_lexer": "ipython3",
   "version": "3.10.1"
  },
  "orig_nbformat": 4
 },
 "nbformat": 4,
 "nbformat_minor": 2
}
