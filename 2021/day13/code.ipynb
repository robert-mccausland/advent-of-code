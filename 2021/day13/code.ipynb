{
 "cells": [
  {
   "cell_type": "code",
   "execution_count": 75,
   "metadata": {},
   "outputs": [],
   "source": [
    "INPUT_FILE = \"example.txt\""
   ]
  },
  {
   "cell_type": "code",
   "execution_count": 76,
   "metadata": {},
   "outputs": [],
   "source": [
    "INPUT_FILE = \"input.txt\""
   ]
  },
  {
   "cell_type": "code",
   "execution_count": 77,
   "metadata": {},
   "outputs": [],
   "source": [
    "def parseDot(line):\n",
    "  return tuple(map(lambda x: int(x), line.split(\",\")))\n",
    "\n",
    "def parseFold(line):\n",
    "  [direction, position] = line[11:].split(\"=\")\n",
    "  return (direction, int(position))\n",
    "\n",
    "with open(INPUT_FILE, \"r\") as file:\n",
    "  lines = file.read().split('\\n')\n",
    "\n",
    "  dots = set()\n",
    "  folds = []\n",
    "  parseDots = True\n",
    "  for line in lines:\n",
    "    if len(line) == 0:\n",
    "      parseDots = False\n",
    "      continue\n",
    "    if parseDots:\n",
    "      dots.add(parseDot(line))\n",
    "    else:\n",
    "      folds.append(parseFold(line))\n",
    "\n",
    "  input = {\n",
    "    \"dots\": dots,\n",
    "    \"folds\": folds\n",
    "  }\n"
   ]
  },
  {
   "cell_type": "code",
   "execution_count": 78,
   "metadata": {},
   "outputs": [],
   "source": [
    "def reflectValue(value, reflectionPoint):\n",
    "  if value < reflectionPoint:\n",
    "    return value\n",
    "  else:\n",
    "    return reflectionPoint - abs(value - reflectionPoint)\n",
    "\n",
    "def foldDot(dot, fold):\n",
    "  match fold[0]:\n",
    "    case \"x\": return (reflectValue(dot[0], fold[1]), dot[1])\n",
    "    case \"y\": return (dot[0], reflectValue(dot[1], fold[1]))\n",
    "\n",
    "def foldDots(dots, fold):\n",
    "  return set(map(lambda dot: foldDot(dot, fold), dots))"
   ]
  },
  {
   "cell_type": "code",
   "execution_count": 79,
   "metadata": {},
   "outputs": [
    {
     "name": "stdout",
     "output_type": "stream",
     "text": [
      "837\n"
     ]
    }
   ],
   "source": [
    "foldedOnce = foldDots(dots, folds[0])\n",
    "print(len(foldedOnce))"
   ]
  },
  {
   "cell_type": "code",
   "execution_count": 80,
   "metadata": {},
   "outputs": [],
   "source": [
    "def visualize(dots):\n",
    "  size = (max(map(lambda x: x[0], dots)), max(map(lambda x: x[1], dots)))\n",
    "  result = \"\"\n",
    "  for j in range(size[1] + 1):\n",
    "    for i in range(size[0] + 1):\n",
    "      result += \"#\" if (i, j) in dots else \".\"\n",
    "    result += \"\\n\"\n",
    "  print(result)"
   ]
  },
  {
   "cell_type": "code",
   "execution_count": 81,
   "metadata": {},
   "outputs": [
    {
     "name": "stdout",
     "output_type": "stream",
     "text": [
      "####.###..####..##..#..#..##..#..#.#..#\n",
      "#....#..#....#.#..#.#.#..#..#.#..#.#..#\n",
      "###..#..#...#..#....##...#....####.#..#\n",
      "#....###...#...#.##.#.#..#....#..#.#..#\n",
      "#....#....#....#..#.#.#..#..#.#..#.#..#\n",
      "####.#....####..###.#..#..##..#..#..##.\n",
      "\n"
     ]
    }
   ],
   "source": [
    "folded = dots\n",
    "\n",
    "for fold in folds:\n",
    "  folded = foldDots(folded, fold)\n",
    "\n",
    "visualize(folded)"
   ]
  }
 ],
 "metadata": {
  "interpreter": {
   "hash": "2be5faf79681da6f2a61fdfdd5405d65d042280f7fba6178067603e3a2925119"
  },
  "kernelspec": {
   "display_name": "Python 3.10.1 64-bit",
   "language": "python",
   "name": "python3"
  },
  "language_info": {
   "codemirror_mode": {
    "name": "ipython",
    "version": 3
   },
   "file_extension": ".py",
   "mimetype": "text/x-python",
   "name": "python",
   "nbconvert_exporter": "python",
   "pygments_lexer": "ipython3",
   "version": "3.10.1"
  },
  "orig_nbformat": 4
 },
 "nbformat": 4,
 "nbformat_minor": 2
}
