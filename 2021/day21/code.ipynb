{
 "cells": [
  {
   "cell_type": "code",
   "execution_count": 30,
   "metadata": {},
   "outputs": [],
   "source": [
    "class GameOptions:\n",
    "  winningScore = 1000\n",
    "  rollsPerTurn = 3\n",
    "  trackSize = 10\n",
    "\n",
    "  def __repr__(self):\n",
    "    return str(self.__dict__)\n",
    "\n",
    "  def __hash__(self):\n",
    "    return hash(repr(self))\n",
    "\n",
    "  def __eq__(self, other):\n",
    "    if not isinstance(other, type(self)):\n",
    "      return False\n",
    "    return self.winningScore == other.winningScore\\\n",
    "      and self.rollsPerTurn == other.rollsPerTurn\\\n",
    "      and self.trackSize == other.trackSize\n",
    "\n",
    "    \n",
    "class Player:\n",
    "  score = 0\n",
    "\n",
    "  def __init__(self, startingPosition):\n",
    "    self.trackPosition = startingPosition\n",
    "\n",
    "  def __repr__(self):\n",
    "    return str(self.__dict__)\n",
    "\n",
    "  def __hash__(self):\n",
    "    return hash(repr(self))\n",
    "    \n",
    "  def __eq__(self, other):\n",
    "    if not isinstance(other, type(self)):\n",
    "      return False\n",
    "    return self.score == other.score and self.trackPosition == other.trackPosition\n",
    "\n",
    "class DeterministicDice:\n",
    "  value = 0\n",
    "  rolls = 0\n",
    "\n",
    "  def __init__(self, sides):\n",
    "    self.sides = sides\n",
    "    \n",
    "  def __repr__(self):\n",
    "    return str(self.__dict__)\n",
    "\n",
    "  def roll(self):\n",
    "    self.value += 1\n",
    "    self.rolls += 1\n",
    "    result = self.value\n",
    "    self.value %= self.sides\n",
    "    return result"
   ]
  },
  {
   "cell_type": "code",
   "execution_count": 31,
   "metadata": {},
   "outputs": [],
   "source": [
    "def simulateGame(startingPositions, rollDice, options=None):\n",
    "  def createPlayers():\n",
    "    for start in startingPositions:\n",
    "      yield Player(start)\n",
    "\n",
    "  if options == None:\n",
    "    options = GameOptions()\n",
    "\n",
    "  players = tuple(createPlayers())\n",
    "  currentPlayer = 0\n",
    "  \n",
    "  while True:\n",
    "    player = players[currentPlayer]\n",
    "    rolls = []\n",
    "    for _ in range(options.rollsPerTurn):\n",
    "      rolls.append(rollDice())\n",
    "    \n",
    "    player.trackPosition += sum(rolls) \n",
    "    player.trackPosition %= options.trackSize\n",
    "    player.score += player.trackPosition + 1\n",
    "\n",
    "    if player.score >= options.winningScore:\n",
    "      return players\n",
    "\n",
    "    currentPlayer += 1\n",
    "    currentPlayer %= len(players)"
   ]
  },
  {
   "cell_type": "code",
   "execution_count": 32,
   "metadata": {},
   "outputs": [],
   "source": [
    "import itertools\n",
    "import functools\n",
    "import copy\n",
    "\n",
    "@functools.cache\n",
    "def getPossbileRollValues(rolls):\n",
    "  if rolls == 0:\n",
    "    return [0]\n",
    "  else:\n",
    "    values = getPossbileRollValues(rolls - 1)\n",
    "    results = []\n",
    "    for rollValue in values:\n",
    "      for newRoll in range(1, 4):\n",
    "        results.append(rollValue + newRoll)\n",
    "    return results\n",
    "      \n",
    "@functools.cache\n",
    "def getPossibilities(players, gameOptions, playerIndex=0):\n",
    "  def addResults(newResults):\n",
    "    for i, result in enumerate(newResults):\n",
    "      results[i] += result\n",
    "\n",
    "  results = list(itertools.repeat(0, len(players)))\n",
    "  for rollSum in getPossbileRollValues(gameOptions.rollsPerTurn):\n",
    "    player = copy.copy(players[playerIndex])\n",
    "    player.trackPosition += rollSum\n",
    "    player.trackPosition %= gameOptions.trackSize\n",
    "    player.score += player.trackPosition + 1\n",
    "\n",
    "    if player.score >= gameOptions.winningScore:\n",
    "      results[playerIndex] += 1\n",
    "    else:\n",
    "      newPlayers = list(players)\n",
    "      newPlayers[playerIndex] = player\n",
    "      newPlayerIndex = playerIndex + 1\n",
    "      newPlayerIndex %= len(players)\n",
    "      addResults(getPossibilities(tuple(newPlayers), gameOptions, newPlayerIndex))\n",
    "  \n",
    "  return results"
   ]
  },
  {
   "cell_type": "code",
   "execution_count": 33,
   "metadata": {},
   "outputs": [
    {
     "data": {
      "text/plain": [
       "412344"
      ]
     },
     "execution_count": 33,
     "metadata": {},
     "output_type": "execute_result"
    }
   ],
   "source": [
    "dice = DeterministicDice(100)\n",
    "players = simulateGame([7, 2], dice.roll)\n",
    "dice.rolls * min(map(lambda x: x.score, players))"
   ]
  },
  {
   "cell_type": "code",
   "execution_count": 34,
   "metadata": {},
   "outputs": [
    {
     "name": "stdout",
     "output_type": "stream",
     "text": [
      "[214924284932572, 143154512703677]\n",
      "CacheInfo(hits=397436, misses=26878, maxsize=None, currsize=26878)\n"
     ]
    }
   ],
   "source": [
    "gameOptions = GameOptions()\n",
    "gameOptions.winningScore = 21\n",
    "players = (Player(7), Player(2))\n",
    "getPossibilities.args = set()\n",
    "print(getPossibilities(players, gameOptions))\n",
    "print(getPossibilities.cache_info())\n"
   ]
  }
 ],
 "metadata": {
  "interpreter": {
   "hash": "2be5faf79681da6f2a61fdfdd5405d65d042280f7fba6178067603e3a2925119"
  },
  "kernelspec": {
   "display_name": "Python 3.10.1 64-bit",
   "language": "python",
   "name": "python3"
  },
  "language_info": {
   "codemirror_mode": {
    "name": "ipython",
    "version": 3
   },
   "file_extension": ".py",
   "mimetype": "text/x-python",
   "name": "python",
   "nbconvert_exporter": "python",
   "pygments_lexer": "ipython3",
   "version": "3.10.1"
  },
  "orig_nbformat": 4
 },
 "nbformat": 4,
 "nbformat_minor": 2
}
