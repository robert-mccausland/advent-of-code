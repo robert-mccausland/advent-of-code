{
 "cells": [
  {
   "cell_type": "code",
   "execution_count": 157,
   "metadata": {},
   "outputs": [],
   "source": [
    "INPUT_FILE = \"example.txt\"\n",
    "MAX_VALUE = 10\n",
    "TILE_COUNT = 5"
   ]
  },
  {
   "cell_type": "code",
   "execution_count": 158,
   "metadata": {},
   "outputs": [],
   "source": [
    "INPUT_FILE = \"input.txt\""
   ]
  },
  {
   "cell_type": "code",
   "execution_count": 159,
   "metadata": {},
   "outputs": [],
   "source": [
    "def parseLine(line):\n",
    "    digits = []\n",
    "    digits[0:] = line\n",
    "    return list(map(lambda x: int(x), digits))\n",
    "\n",
    "with open(INPUT_FILE, \"r\") as file:\n",
    "    lines = filter(lambda x: len(x) != 0, file.read().split(\"\\n\"))\n",
    "    input = list(map(parseLine, lines))"
   ]
  },
  {
   "cell_type": "code",
   "execution_count": 160,
   "metadata": {},
   "outputs": [],
   "source": [
    "import math\n",
    "\n",
    "def isInBounds(position):\n",
    "    return position[0] >= 0 and position[1] >= 0 \\\n",
    "        and position[0] < len(input) * TILE_COUNT \\\n",
    "        and position[1] < len(input[position[0] % len(input)]) * TILE_COUNT\n",
    "\n",
    "def getRiskOfPosition(position):\n",
    "    size = (len(input), len(input[position[0] % len(input)]))\n",
    "    baseValue = input[position[0] % size[0]][position[1] % size[1]]\n",
    "    tilePosition = (math.floor(position[0] / size[0]), math.floor(position[1] / size[1]))\n",
    "    additionalValue = sum(tilePosition)\n",
    "    return ((baseValue + additionalValue - 1) % (MAX_VALUE - 1)) + 1\n",
    "\n",
    "def getNeighbors(position):\n",
    "    for (i, j) in [(1, 0), (0, 1), (-1, 0), (0, -1)]:\n",
    "        result = (position[0] + i, position[1] + j)\n",
    "        if isInBounds(result):\n",
    "            yield result\n",
    "\n",
    "def findShortestPath():\n",
    "    # Closed are all the score we know are the best\n",
    "    closed = { (0,0): (None, 0) }\n",
    "    # Open are all the score that could be better\n",
    "    open = {}\n",
    "\n",
    "    # Start at the stop left, target is the bottom right\n",
    "    current = (0,0)\n",
    "    target = (len(input) * TILE_COUNT - 1, len(input[-1]) * TILE_COUNT - 1)\n",
    "    while current != target:\n",
    "        # Update open score of all neighbors, assuming we come from the current position\n",
    "        for neighbor in getNeighbors(current):\n",
    "            if neighbor in closed:\n",
    "                continue\n",
    "\n",
    "            new = closed[current][1] + getRiskOfPosition(neighbor)\n",
    "            if neighbor not in open or open[neighbor][1] > new:\n",
    "                open[neighbor] = (current, new)\n",
    "\n",
    "        # Find the lowest open score and set it as closed, as there is no way of improving\n",
    "        # this score, so it must be the best for that position. Now we have a new closed\n",
    "        # score we can repeat until we reach the end.\n",
    "        (current, currentValue) = min(open.items(), key=lambda item: item[1][1])\n",
    "        closed[current] = currentValue\n",
    "        open.pop(current)\n",
    "\n",
    "    path = [(currentValue[0], current, currentValue[1])]\n",
    "    while closed[path[-1][0]][0] != None:\n",
    "        previous = closed[path[-1][0]]\n",
    "        path.append((previous[0], path[-1][0], previous[1]))\n",
    "    path.reverse()\n",
    "    return path"
   ]
  },
  {
   "cell_type": "code",
   "execution_count": 161,
   "metadata": {},
   "outputs": [
    {
     "data": {
      "text/plain": [
       "2800"
      ]
     },
     "execution_count": 161,
     "metadata": {},
     "output_type": "execute_result"
    }
   ],
   "source": [
    "path = findShortestPath()\n",
    "path[-1][2]"
   ]
  }
 ],
 "metadata": {
  "interpreter": {
   "hash": "31f2aee4e71d21fbe5cf8b01ff0e069b9275f58929596ceb00d14d90e3e16cd6"
  },
  "kernelspec": {
   "display_name": "Python 3.8.9 64-bit",
   "language": "python",
   "name": "python3"
  },
  "language_info": {
   "codemirror_mode": {
    "name": "ipython",
    "version": 3
   },
   "file_extension": ".py",
   "mimetype": "text/x-python",
   "name": "python",
   "nbconvert_exporter": "python",
   "pygments_lexer": "ipython3",
   "version": "3.10.1"
  },
  "orig_nbformat": 4
 },
 "nbformat": 4,
 "nbformat_minor": 2
}
