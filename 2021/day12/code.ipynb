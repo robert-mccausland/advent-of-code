{
 "cells": [
  {
   "cell_type": "code",
   "execution_count": 61,
   "metadata": {},
   "outputs": [],
   "source": [
    "CAN_REPEAT = False"
   ]
  },
  {
   "cell_type": "code",
   "execution_count": 66,
   "metadata": {},
   "outputs": [],
   "source": [
    "CAN_REPEAT = True"
   ]
  },
  {
   "cell_type": "code",
   "execution_count": 39,
   "metadata": {},
   "outputs": [],
   "source": [
    "INPUT_FILE = \"example-1.txt\""
   ]
  },
  {
   "cell_type": "code",
   "execution_count": 62,
   "metadata": {},
   "outputs": [],
   "source": [
    "INPUT_FILE = \"example-2.txt\""
   ]
  },
  {
   "cell_type": "code",
   "execution_count": 68,
   "metadata": {},
   "outputs": [],
   "source": [
    "INPUT_FILE = \"example-3.txt\""
   ]
  },
  {
   "cell_type": "code",
   "execution_count": 72,
   "metadata": {},
   "outputs": [],
   "source": [
    "INPUT_FILE = \"input.txt\""
   ]
  },
  {
   "cell_type": "code",
   "execution_count": 73,
   "metadata": {},
   "outputs": [],
   "source": [
    "input = {}\n",
    "\n",
    "def addCave(cave):\n",
    "  if cave not in input.keys():\n",
    "    input[cave] = []\n",
    "\n",
    "with open(INPUT_FILE, \"r\") as file:\n",
    "  lines = filter(lambda x: len(x) != 0, file.read().split('\\n'))\n",
    "  connections = map(lambda x: tuple(x.split(\"-\")), lines)\n",
    "  for (startCave, endCave) in connections:\n",
    "    addCave(startCave)\n",
    "    addCave(endCave)\n",
    "    input[startCave].append(endCave)\n",
    "    input[endCave].append(startCave)"
   ]
  },
  {
   "cell_type": "code",
   "execution_count": 70,
   "metadata": {},
   "outputs": [],
   "source": [
    "def findRepeats(items):\n",
    "  seen = set()\n",
    "  repeats = set()\n",
    "  for item in items:\n",
    "    if item in seen:\n",
    "      repeats.add(item)\n",
    "    else:\n",
    "      seen.add(item)\n",
    "\n",
    "  return repeats\n",
    "\n",
    "def hasVisited(path, cave): \n",
    "  smallCaves = list(filter(lambda x: not x.isupper(), path))\n",
    "  repeats = findRepeats(smallCaves)\n",
    "\n",
    "  # If we cant repeat, or already have repeated then we just check the cave hasn't been visited before\n",
    "  if not CAN_REPEAT or len(repeats) > 0:\n",
    "    return cave in smallCaves\n",
    "\n",
    "  # Otherwise we are allowed to repeat once and just need to check we are not repeating the start\n",
    "  return cave == 'start'\n"
   ]
  },
  {
   "cell_type": "code",
   "execution_count": 74,
   "metadata": {},
   "outputs": [
    {
     "name": "stdout",
     "output_type": "stream",
     "text": [
      "134862\n"
     ]
    }
   ],
   "source": [
    "finishedPaths = []\n",
    "currentPaths = [['start']]\n",
    "\n",
    "while len(currentPaths) != 0:\n",
    "  newCurrentPaths = []\n",
    "  for currentPath in currentPaths:\n",
    "    nextPositions = list(filter(lambda x: not hasVisited(currentPath, x), input[currentPath[-1]]))\n",
    "    for nextPosition in nextPositions:\n",
    "      newPath = [x for x in currentPath]\n",
    "      newPath.append(nextPosition)\n",
    "      if newPath[-1] == 'end':\n",
    "        finishedPaths.append(newPath)\n",
    "      else:\n",
    "        newCurrentPaths.append(newPath)\n",
    "\n",
    "  currentPaths = newCurrentPaths\n",
    "\n",
    "print(len(finishedPaths))"
   ]
  }
 ],
 "metadata": {
  "interpreter": {
   "hash": "2be5faf79681da6f2a61fdfdd5405d65d042280f7fba6178067603e3a2925119"
  },
  "kernelspec": {
   "display_name": "Python 3.10.1 64-bit",
   "language": "python",
   "name": "python3"
  },
  "language_info": {
   "codemirror_mode": {
    "name": "ipython",
    "version": 3
   },
   "file_extension": ".py",
   "mimetype": "text/x-python",
   "name": "python",
   "nbconvert_exporter": "python",
   "pygments_lexer": "ipython3",
   "version": "3.10.1"
  },
  "orig_nbformat": 4
 },
 "nbformat": 4,
 "nbformat_minor": 2
}
