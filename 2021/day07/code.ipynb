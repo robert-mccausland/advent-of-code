{
 "cells": [
  {
   "cell_type": "code",
   "execution_count": 28,
   "metadata": {},
   "outputs": [],
   "source": [
    "INPUT_FILE = \"example.txt\""
   ]
  },
  {
   "cell_type": "code",
   "execution_count": 29,
   "metadata": {},
   "outputs": [],
   "source": [
    "INPUT_FILE = \"input.txt\""
   ]
  },
  {
   "cell_type": "code",
   "execution_count": 30,
   "metadata": {},
   "outputs": [],
   "source": [
    "with open(INPUT_FILE, \"r\") as file:\n",
    "  input = list(map(lambda x: int(x), file.read().split(\",\")))"
   ]
  },
  {
   "cell_type": "code",
   "execution_count": 31,
   "metadata": {},
   "outputs": [
    {
     "name": "stdout",
     "output_type": "stream",
     "text": [
      "{'fuel': 100220525, 'target': 479}\n"
     ]
    }
   ],
   "source": [
    "def getFuelUsed(start, end):\n",
    "  stepSize = abs(start - end)\n",
    "  return int((stepSize * (stepSize + 1)) / 2)\n",
    "\n",
    "def calculateFuel(target):\n",
    "  return sum(map(lambda x: getFuelUsed(x, target), input))\n",
    "\n",
    "currentResult = None\n",
    "for target in range(max(input)):\n",
    "  fuel = calculateFuel(target)\n",
    "  if currentResult == None or currentResult['fuel'] > fuel:\n",
    "    currentResult = { 'fuel': fuel, 'target': target }\n",
    "\n",
    "print(currentResult)"
   ]
  }
 ],
 "metadata": {
  "interpreter": {
   "hash": "2be5faf79681da6f2a61fdfdd5405d65d042280f7fba6178067603e3a2925119"
  },
  "kernelspec": {
   "display_name": "Python 3.10.1 64-bit",
   "language": "python",
   "name": "python3"
  },
  "language_info": {
   "codemirror_mode": {
    "name": "ipython",
    "version": 3
   },
   "file_extension": ".py",
   "mimetype": "text/x-python",
   "name": "python",
   "nbconvert_exporter": "python",
   "pygments_lexer": "ipython3",
   "version": "3.10.1"
  },
  "orig_nbformat": 4
 },
 "nbformat": 4,
 "nbformat_minor": 2
}
