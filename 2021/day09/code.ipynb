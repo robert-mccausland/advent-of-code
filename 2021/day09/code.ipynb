{
 "cells": [
  {
   "cell_type": "code",
   "execution_count": 57,
   "metadata": {},
   "outputs": [],
   "source": [
    "INPUT_FILE = \"example.txt\""
   ]
  },
  {
   "cell_type": "code",
   "execution_count": 58,
   "metadata": {},
   "outputs": [],
   "source": [
    "INPUT_FILE = \"input.txt\""
   ]
  },
  {
   "cell_type": "code",
   "execution_count": 59,
   "metadata": {},
   "outputs": [],
   "source": [
    "def parseLine(line):\n",
    "  result = []\n",
    "  result[:0] = map(lambda x: int(x), line)\n",
    "  return result\n",
    "\n",
    "with open(INPUT_FILE, \"r\") as file:\n",
    "  fileLines = list(filter(lambda x: len(x) != 0, file.read().split('\\n')))\n",
    "  input = list(map(parseLine, fileLines))"
   ]
  },
  {
   "cell_type": "code",
   "execution_count": 60,
   "metadata": {},
   "outputs": [],
   "source": [
    "def isInRange(position):\n",
    "  return position[0] >= 0 and position[0] < len(input) and position[1] >= 0 and position[1] < len(input[position[0]])\n",
    "\n",
    "def getAdjacentPoints(position):\n",
    "  up = (position[0] + 1, position[1])\n",
    "  down = (position[0] - 1, position[1])\n",
    "  left = (position[0], position[1] - 1)\n",
    "  right = (position[0], position[1] + 1)\n",
    "\n",
    "  return list(filter(isInRange, [up, down, left, right]))\n",
    "\n",
    "def isLowPoint(position):\n",
    "  for adjacent in getAdjacentPoints(position):\n",
    "    if input[position[0]][position[1]] >= input[adjacent[0]][adjacent[1]]:\n",
    "      return False\n",
    "  \n",
    "  return True"
   ]
  },
  {
   "cell_type": "code",
   "execution_count": 61,
   "metadata": {},
   "outputs": [
    {
     "name": "stdout",
     "output_type": "stream",
     "text": [
      "237\n",
      "588\n"
     ]
    }
   ],
   "source": [
    "count = 0\n",
    "riskLevel = 0\n",
    "for i in range(len(input)):\n",
    "  for j in range(len(input[i])):\n",
    "    if isLowPoint((i, j)):\n",
    "      count += 1\n",
    "      riskLevel += input[i][j] + 1\n",
    "\n",
    "print(count)\n",
    "print(riskLevel)"
   ]
  },
  {
   "cell_type": "code",
   "execution_count": 64,
   "metadata": {},
   "outputs": [
    {
     "name": "stdout",
     "output_type": "stream",
     "text": [
      "{(0, 5), (0, 6)}\n",
      "964712\n"
     ]
    }
   ],
   "source": [
    "def findBasin(lowPoint):\n",
    "  candidatePoints = [lowPoint]\n",
    "  checkedPoints = set()\n",
    "\n",
    "  while len(candidatePoints) != 0:\n",
    "    candidate = candidatePoints.pop()\n",
    "    checkedPoints.add(candidate)\n",
    "    adjacentPoints = list(filter(lambda x: x not in checkedPoints, getAdjacentPoints(candidate)))\n",
    "\n",
    "    for adjacentPoint in adjacentPoints:\n",
    "      adjacentValue = input[adjacentPoint[0]][adjacentPoint[1]]\n",
    "      candidateValue = input[candidate[0]][candidate[1]]\n",
    "      if adjacentValue >= candidateValue and adjacentValue < 9:\n",
    "        candidatePoints.append(adjacentPoint)\n",
    "\n",
    "  return checkedPoints\n",
    "\n",
    "basins = []\n",
    "for i in range(len(input)):\n",
    "  for j in range(len(input[i])):\n",
    "    if isLowPoint((i, j)):\n",
    "      basins.append(findBasin((i, j)))\n",
    "\n",
    "result = 1\n",
    "basins.sort(key=lambda x: len(x), reverse=True)\n",
    "for basin in basins[0:3]:\n",
    "  result *= len(basin)\n",
    "\n",
    "print(result)"
   ]
  }
 ],
 "metadata": {
  "interpreter": {
   "hash": "2be5faf79681da6f2a61fdfdd5405d65d042280f7fba6178067603e3a2925119"
  },
  "kernelspec": {
   "display_name": "Python 3.10.1 64-bit",
   "language": "python",
   "name": "python3"
  },
  "language_info": {
   "codemirror_mode": {
    "name": "ipython",
    "version": 3
   },
   "file_extension": ".py",
   "mimetype": "text/x-python",
   "name": "python",
   "nbconvert_exporter": "python",
   "pygments_lexer": "ipython3",
   "version": "3.10.1"
  },
  "orig_nbformat": 4
 },
 "nbformat": 4,
 "nbformat_minor": 2
}
