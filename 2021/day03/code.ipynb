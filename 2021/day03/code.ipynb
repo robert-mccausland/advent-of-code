{
 "cells": [
  {
   "cell_type": "code",
   "execution_count": 31,
   "metadata": {},
   "outputs": [],
   "source": [
    "MAX_BITS = 12"
   ]
  },
  {
   "cell_type": "code",
   "execution_count": 25,
   "metadata": {},
   "outputs": [],
   "source": [
    "inputFile = \"example.txt\""
   ]
  },
  {
   "cell_type": "code",
   "execution_count": 32,
   "metadata": {},
   "outputs": [],
   "source": [
    "inputFile = \"input.txt\""
   ]
  },
  {
   "cell_type": "code",
   "execution_count": 33,
   "metadata": {},
   "outputs": [],
   "source": [
    "with open(inputFile, \"r\") as file:\n",
    "    input = list(map(lambda x: int(x, 2), filter(lambda x: len(x) > 0, file.read().split(\"\\n\"))))"
   ]
  },
  {
   "cell_type": "code",
   "execution_count": 34,
   "metadata": {},
   "outputs": [],
   "source": [
    "def getBit(value, index):\n",
    "  return (value & (2 ** index)) >> index"
   ]
  },
  {
   "cell_type": "code",
   "execution_count": 35,
   "metadata": {},
   "outputs": [
    {
     "name": "stdout",
     "output_type": "stream",
     "text": [
      "[509, 484, 493, 499, 512, 514, 497, 521, 491, 498, 480, 479]\n",
      "0b10110001 0b111101001110\n",
      "693486\n"
     ]
    }
   ],
   "source": [
    "counts = [0 for _ in range(MAX_BITS)]\n",
    "for value in input:\n",
    "  for i in range(0, MAX_BITS):\n",
    "    counts[i] += getBit(value, i)\n",
    "\n",
    "cutoff = len(input) / 2\n",
    "gamma = 0\n",
    "epsilon = 0\n",
    "for index, count in enumerate(filter(lambda x: x != 0, counts)):\n",
    "  if count > cutoff:\n",
    "    gamma +=  2 ** index\n",
    "  else:\n",
    "    epsilon +=  2 ** index\n",
    "\n",
    "print(counts)\n",
    "print(bin(gamma), bin(epsilon))\n",
    "print(gamma * epsilon)"
   ]
  },
  {
   "cell_type": "code",
   "execution_count": 28,
   "metadata": {},
   "outputs": [
    {
     "name": "stdout",
     "output_type": "stream",
     "text": [
      "0b10111\n"
     ]
    }
   ],
   "source": [
    "currentSet = input\n",
    "currentBitPosition = MAX_BITS\n",
    "\n",
    "while len(currentSet) > 1:\n",
    "  bitCount = 0\n",
    "  for value in currentSet:\n",
    "    bitCount += getBit(value, currentBitPosition)\n",
    "\n",
    "  bitValue = 1 if bitCount >= len(currentSet) / 2 else 0\n",
    "  currentSet = list(filter(lambda x: getBit(x, currentBitPosition) == bitValue, currentSet))\n",
    "  currentBitPosition -= 1\n",
    "\n",
    "print(bin(currentSet[0]))"
   ]
  },
  {
   "cell_type": "code",
   "execution_count": 36,
   "metadata": {},
   "outputs": [],
   "source": [
    "def analyzeData(bitValueProvider):\n",
    "  currentSet = input\n",
    "  currentBitPosition = MAX_BITS\n",
    "  while len(currentSet) > 1 and currentBitPosition > 0:\n",
    "    bitCount = 0\n",
    "    currentBitPosition -= 1\n",
    "    for value in currentSet:\n",
    "      bitCount += getBit(value, currentBitPosition)\n",
    "\n",
    "    if bitCount == 0:\n",
    "      continue\n",
    "\n",
    "    bitValue = bitValueProvider(bitCount, len(currentSet))\n",
    "    currentSet = list(filter(lambda x: getBit(x, currentBitPosition) == bitValue, currentSet))\n",
    "  return currentSet[0]"
   ]
  },
  {
   "cell_type": "code",
   "execution_count": 37,
   "metadata": {},
   "outputs": [
    {
     "name": "stdout",
     "output_type": "stream",
     "text": [
      "0b1110100101 0b111000100110\n",
      "3379326\n"
     ]
    }
   ],
   "source": [
    "oxygenRating = analyzeData(lambda bitCount, maxCount: 1 if bitCount >= maxCount / 2 else 0)\n",
    "co2Rating = analyzeData(lambda bitCount, maxCount: 1 if bitCount < maxCount / 2 else 0)\n",
    "print(bin(oxygenRating), bin(co2Rating))\n",
    "print(oxygenRating * co2Rating)"
   ]
  }
 ],
 "metadata": {
  "interpreter": {
   "hash": "2be5faf79681da6f2a61fdfdd5405d65d042280f7fba6178067603e3a2925119"
  },
  "kernelspec": {
   "display_name": "Python 3.10.1 64-bit",
   "language": "python",
   "name": "python3"
  },
  "language_info": {
   "codemirror_mode": {
    "name": "ipython",
    "version": 3
   },
   "file_extension": ".py",
   "mimetype": "text/x-python",
   "name": "python",
   "nbconvert_exporter": "python",
   "pygments_lexer": "ipython3",
   "version": "3.10.1"
  },
  "orig_nbformat": 4
 },
 "nbformat": 4,
 "nbformat_minor": 2
}
