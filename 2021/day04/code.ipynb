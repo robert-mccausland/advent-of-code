{
 "cells": [
  {
   "cell_type": "code",
   "execution_count": 13,
   "metadata": {},
   "outputs": [],
   "source": [
    "INPUT_FILE = \"example.txt\""
   ]
  },
  {
   "cell_type": "code",
   "execution_count": 14,
   "metadata": {},
   "outputs": [],
   "source": [
    "INPUT_FILE = \"input.txt\""
   ]
  },
  {
   "cell_type": "code",
   "execution_count": 15,
   "metadata": {},
   "outputs": [],
   "source": [
    "def writeBoard(board):\n",
    "  if len(board) != 0:\n",
    "    boards.append(board)\n",
    "\n",
    "with open(INPUT_FILE, \"r\") as file:\n",
    "    fileData = file.read().split(\"\\n\")\n",
    "    numbers = list(map(lambda x: int(x), fileData[0].split(\",\")))\n",
    "    boards = []\n",
    "    currentBoard = []\n",
    "    for fileLine in fileData[1:]:\n",
    "      if len(fileLine) == 0:\n",
    "        writeBoard(currentBoard)\n",
    "        currentBoard = []\n",
    "      else:\n",
    "        currentBoard.append(list(map(lambda x: int(x), filter(lambda x: len(x) != 0, fileLine.split(\" \")))))\n",
    "    writeBoard(currentBoard)"
   ]
  },
  {
   "cell_type": "code",
   "execution_count": 16,
   "metadata": {},
   "outputs": [],
   "source": [
    "import functools\n",
    "\n",
    "def getRow(board, index):\n",
    "  return board[index]\n",
    "\n",
    "def getColumn(board, index):\n",
    "  return list(map(lambda x: x[index], board))\n",
    "\n",
    "def checkLine(line, numbers):\n",
    "  return all(map(lambda x: x in numbers, line))\n",
    "\n",
    "def getScore(board, numbers):\n",
    "  numberSum = sum(filter(lambda x: x not in numbers, functools.reduce(lambda list, next: list + next, board, [])))\n",
    "  return numberSum * numbers[-1]\n",
    "\n",
    "def checkBoard(board, numbers):\n",
    "  size = len(board)\n",
    "  for i in range(0, size):\n",
    "    if checkLine(getRow(board, i), numbers) or checkLine(getColumn(board, i), numbers):\n",
    "      return getScore(board, numbers)\n",
    "  return -1"
   ]
  },
  {
   "cell_type": "code",
   "execution_count": 17,
   "metadata": {},
   "outputs": [
    {
     "name": "stdout",
     "output_type": "stream",
     "text": [
      "23177\n"
     ]
    }
   ],
   "source": [
    "score = -1\n",
    "for round in range(0, len(numbers)):\n",
    "  currentNumbers = numbers[:round]\n",
    "  scores = list(map(lambda board: checkBoard(board, currentNumbers), boards))\n",
    "  score = max(scores)\n",
    "  \n",
    "  if score > 0:\n",
    "    break\n",
    "\n",
    "print(score)"
   ]
  },
  {
   "cell_type": "code",
   "execution_count": 18,
   "metadata": {},
   "outputs": [
    {
     "name": "stdout",
     "output_type": "stream",
     "text": [
      "6804\n"
     ]
    }
   ],
   "source": [
    "playingBoards = boards\n",
    "for round in range(0, len(numbers)):\n",
    "  currentNumbers = numbers[:round]\n",
    "  newPlayingBoards = list(filter(lambda board: checkBoard(board, currentNumbers) == -1, playingBoards))\n",
    "  if len(newPlayingBoards) == 0:\n",
    "    lastBoard = playingBoards[0]\n",
    "    break\n",
    "  playingBoards = newPlayingBoards\n",
    "  \n",
    "print(checkBoard(lastBoard, currentNumbers))\n"
   ]
  }
 ],
 "metadata": {
  "interpreter": {
   "hash": "2be5faf79681da6f2a61fdfdd5405d65d042280f7fba6178067603e3a2925119"
  },
  "kernelspec": {
   "display_name": "Python 3.10.1 64-bit",
   "language": "python",
   "name": "python3"
  },
  "language_info": {
   "codemirror_mode": {
    "name": "ipython",
    "version": 3
   },
   "file_extension": ".py",
   "mimetype": "text/x-python",
   "name": "python",
   "nbconvert_exporter": "python",
   "pygments_lexer": "ipython3",
   "version": "3.10.1"
  },
  "orig_nbformat": 4
 },
 "nbformat": 4,
 "nbformat_minor": 2
}
