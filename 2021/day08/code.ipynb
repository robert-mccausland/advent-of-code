{
 "cells": [
  {
   "cell_type": "code",
   "execution_count": 112,
   "metadata": {},
   "outputs": [],
   "source": [
    "INPUT_FILE = \"example-1.txt\""
   ]
  },
  {
   "cell_type": "code",
   "execution_count": 113,
   "metadata": {},
   "outputs": [],
   "source": [
    "INPUT_FILE = \"example-2.txt\""
   ]
  },
  {
   "cell_type": "code",
   "execution_count": 114,
   "metadata": {},
   "outputs": [],
   "source": [
    "INPUT_FILE = \"input.txt\""
   ]
  },
  {
   "cell_type": "code",
   "execution_count": 115,
   "metadata": {},
   "outputs": [],
   "source": [
    "with open(INPUT_FILE, \"r\") as file:\n",
    "  fileLines = list(filter(lambda x: len(x) != 0, file.read().split('\\n')))\n",
    "  input = []\n",
    "  for line in fileLines:\n",
    "    [signalPatters, digitOutputValues] = list(map(lambda x: x.strip(), line.split(\"|\")))\n",
    "    input.append({\n",
    "      'signalPatterns': signalPatters.split(\" \"),\n",
    "      'digitOutputValues': digitOutputValues.split(\" \")\n",
    "    })"
   ]
  },
  {
   "cell_type": "code",
   "execution_count": 116,
   "metadata": {},
   "outputs": [
    {
     "name": "stdout",
     "output_type": "stream",
     "text": [
      "237\n"
     ]
    }
   ],
   "source": [
    "def countDigitsInLine(length, line):\n",
    "  return len(list(filter(lambda x: len(x) == length, line['digitOutputValues'])))\n",
    "\n",
    "def countDigits(length):\n",
    "  return sum(map(lambda line: countDigitsInLine(length, line), input))\n",
    "\n",
    "ones = countDigits(2)\n",
    "fours = countDigits(4)\n",
    "sevens = countDigits(3)\n",
    "eights = countDigits(7)\n",
    "\n",
    "\n",
    "print(sum((ones, fours, sevens, eights)))"
   ]
  },
  {
   "cell_type": "code",
   "execution_count": 117,
   "metadata": {},
   "outputs": [
    {
     "name": "stdout",
     "output_type": "stream",
     "text": [
      "1009098\n"
     ]
    }
   ],
   "source": [
    "def getMappingFromLength(length, line):\n",
    "  result = list(filter(lambda x: len(x) == length, line['signalPatterns']))\n",
    "  return result\n",
    "\n",
    "def normalizeMapping(value):\n",
    "  segments = []\n",
    "  segments[:0] = value\n",
    "  segments.sort()\n",
    "  result = \"\"\n",
    "  for segment in segments:\n",
    "    result += segment\n",
    "  return result\n",
    "\n",
    "def getHorizontalSegments(mappings):\n",
    "  horizontalSegments = None\n",
    "  for segmentMapping in mappings:\n",
    "    segments = []\n",
    "    segments[:0] = segmentMapping\n",
    "    if horizontalSegments == None:\n",
    "      horizontalSegments = set(segments)\n",
    "    else:\n",
    "      horizontalSegments = horizontalSegments.intersection(segments)\n",
    "  return horizontalSegments\n",
    "\n",
    "def getMappingForLine(line):\n",
    "  mapping = {}\n",
    "\n",
    "  mapping[1] = getMappingFromLength(2, line)[0]\n",
    "  mapping[4] = getMappingFromLength(4, line)[0]\n",
    "  mapping[7] = getMappingFromLength(3, line)[0]\n",
    "  mapping[8] = getMappingFromLength(7, line)[0]\n",
    "\n",
    "  # 2,3,5 have a length of 5\n",
    "  mappingsOfLength5 = getMappingFromLength(5, line)\n",
    "\n",
    "  # 0,6,9 have a length of 6\n",
    "  mappingsOfLength6 = getMappingFromLength(6, line)\n",
    "\n",
    "  # 3 if the only 5 length that has both segments found in 1\n",
    "  mapping[3] = list(filter(lambda x: mapping[1][0] in x and mapping[1][1] in x,mappingsOfLength5))[0]\n",
    "\n",
    "  # the shared segments between 2 and 5 will be the horizontal segments\n",
    "  horizontalSegments = getHorizontalSegments(filter(lambda x: x != mapping[3], mappingsOfLength5))\n",
    "\n",
    "  # 0 is the only 6 length that is missing a horizontal segments\n",
    "  mapping[0] = list(filter(lambda x: not all(map(lambda segment: segment in x, horizontalSegments)), mappingsOfLength6))[0]\n",
    "\n",
    "  # 6 is missing a segment that is present in 4 and 9 is not\n",
    "  mappingsFor6And9 = list(filter(lambda x: x != mapping[0], mappingsOfLength6))\n",
    "  segmentsIn4 = []\n",
    "  segmentsIn4[:0] = mapping[4]\n",
    "  mapping[6] = list(filter(lambda x: not all(map(lambda segment: segment in x, segmentsIn4)), mappingsFor6And9))[0]\n",
    "  mapping[9] = list(filter(lambda x: x != mapping[6], mappingsFor6And9))[0]\n",
    "\n",
    "  # segments missing from 6 and 9 combined are the segments missing from 5\n",
    "  allSegments = []\n",
    "  allSegments[:0] = mapping[8] # 8 has all segments\n",
    "  missingFrom5 = []\n",
    "  missingFrom5.append(list(filter(lambda x: x not in mapping[6], allSegments))[0])\n",
    "  missingFrom5.append(list(filter(lambda x: x not in mapping[9], allSegments))[0])\n",
    "  mappingsFor2and5 = list(filter(lambda x: x != mapping[3], mappingsOfLength5))\n",
    "  mapping[5] = list(filter(lambda x: all(map(lambda segment: segment not in x, missingFrom5)), mappingsFor2and5))[0]\n",
    "  mapping[2] = list(filter(lambda x: x != mapping[5], mappingsFor2and5))[0]\n",
    "\n",
    "  result = {}\n",
    "  for key, item in mapping.items():\n",
    "    result[normalizeMapping(item)] = key\n",
    "\n",
    "  return result\n",
    "\n",
    "def decodeOutputValue(outputValue, mapping):\n",
    "  result = 0\n",
    "  for index, digit in enumerate(outputValue):\n",
    "    result += mapping[normalizeMapping(digit)] * (10 ** (len(outputValue) - index - 1))\n",
    "  \n",
    "  return result\n",
    "\n",
    "result = sum(map(lambda line: decodeOutputValue(line['digitOutputValues'], getMappingForLine(line)), input))\n",
    "print(result)"
   ]
  }
 ],
 "metadata": {
  "interpreter": {
   "hash": "2be5faf79681da6f2a61fdfdd5405d65d042280f7fba6178067603e3a2925119"
  },
  "kernelspec": {
   "display_name": "Python 3.10.1 64-bit",
   "language": "python",
   "name": "python3"
  },
  "language_info": {
   "codemirror_mode": {
    "name": "ipython",
    "version": 3
   },
   "file_extension": ".py",
   "mimetype": "text/x-python",
   "name": "python",
   "nbconvert_exporter": "python",
   "pygments_lexer": "ipython3",
   "version": "3.10.1"
  },
  "orig_nbformat": 4
 },
 "nbformat": 4,
 "nbformat_minor": 2
}
