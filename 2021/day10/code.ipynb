{
 "cells": [
  {
   "cell_type": "code",
   "execution_count": 37,
   "metadata": {},
   "outputs": [],
   "source": [
    "INPUT_FILE = \"example.txt\""
   ]
  },
  {
   "cell_type": "code",
   "execution_count": 38,
   "metadata": {},
   "outputs": [],
   "source": [
    "INPUT_FILE = \"input.txt\""
   ]
  },
  {
   "cell_type": "code",
   "execution_count": 39,
   "metadata": {},
   "outputs": [],
   "source": [
    "with open(INPUT_FILE, \"r\") as file:\n",
    "  input = list(filter(lambda x: len(x) != 0, file.read().split('\\n')))"
   ]
  },
  {
   "cell_type": "code",
   "execution_count": 40,
   "metadata": {},
   "outputs": [],
   "source": [
    "def isStartChar(char):\n",
    "  return char in '([{<'\n",
    "\n",
    "def isMatch(start, end):\n",
    "  return end == getClosingChar(start)\n",
    "\n",
    "def getClosingChar(start):\n",
    "    match start:\n",
    "      case '(': return ')'\n",
    "      case '[': return ']'\n",
    "      case '{': return '}'\n",
    "      case '<': return '>'"
   ]
  },
  {
   "cell_type": "code",
   "execution_count": 41,
   "metadata": {},
   "outputs": [
    {
     "name": "stdout",
     "output_type": "stream",
     "text": [
      "339477\n"
     ]
    }
   ],
   "source": [
    "errors = []\n",
    "for line in input:\n",
    "  stack = []\n",
    "  for char in line:\n",
    "    if isStartChar(char):\n",
    "      stack.append(char)\n",
    "    else:\n",
    "      start = stack.pop()\n",
    "      if not isMatch(start, char):\n",
    "        errors.append(char)\n",
    "        break\n",
    "\n",
    "pointsLookup = {\n",
    "  ')': 3,\n",
    "  ']': 57,\n",
    "  '}': 1197,\n",
    "  '>': 25137\n",
    "}\n",
    "\n",
    "score = sum(map(lambda x: pointsLookup[x], errors))\n",
    "print(score)"
   ]
  },
  {
   "cell_type": "code",
   "execution_count": 42,
   "metadata": {},
   "outputs": [
    {
     "name": "stdout",
     "output_type": "stream",
     "text": [
      "3049320156\n"
     ]
    }
   ],
   "source": [
    "import math\n",
    "\n",
    "def getCharScore(char):\n",
    "  match char:\n",
    "    case ')': return 1\n",
    "    case ']': return 2\n",
    "    case '}': return 3\n",
    "    case '>': return 4\n",
    "\n",
    "def getCompletionStringScore(completionString):\n",
    "  score = 0\n",
    "  for char in completionString:\n",
    "    score *= 5\n",
    "    score += getCharScore(char)\n",
    "  return score\n",
    "\n",
    "completionStrings = []\n",
    "for line in input:\n",
    "  stack = []\n",
    "  corrupt = False\n",
    "  for char in line:\n",
    "    if isStartChar(char):\n",
    "      stack.append(char)\n",
    "    else:\n",
    "      start = stack.pop()\n",
    "      if not isMatch(start, char):\n",
    "        corrupt = True\n",
    "        break\n",
    "  if corrupt:\n",
    "    continue\n",
    "  \n",
    "  completionString = ''\n",
    "  while len(stack) != 0:\n",
    "    start = stack.pop()\n",
    "    completionString += getClosingChar(start)\n",
    "  completionStrings.append(completionString)\n",
    "\n",
    "scores = list(map(getCompletionStringScore, completionStrings))\n",
    "scores.sort()\n",
    "middle = scores[math.floor(len(scores) / 2)]\n",
    "print(middle)"
   ]
  }
 ],
 "metadata": {
  "interpreter": {
   "hash": "2be5faf79681da6f2a61fdfdd5405d65d042280f7fba6178067603e3a2925119"
  },
  "kernelspec": {
   "display_name": "Python 3.10.1 64-bit",
   "language": "python",
   "name": "python3"
  },
  "language_info": {
   "codemirror_mode": {
    "name": "ipython",
    "version": 3
   },
   "file_extension": ".py",
   "mimetype": "text/x-python",
   "name": "python",
   "nbconvert_exporter": "python",
   "pygments_lexer": "ipython3",
   "version": "3.10.1"
  },
  "orig_nbformat": 4
 },
 "nbformat": 4,
 "nbformat_minor": 2
}
