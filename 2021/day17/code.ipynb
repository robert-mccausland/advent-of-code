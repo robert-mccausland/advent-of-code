{
 "cells": [
  {
   "cell_type": "code",
   "execution_count": 60,
   "metadata": {},
   "outputs": [],
   "source": [
    "INPUT_FILE = 'example.txt'\n",
    "MAX_VELOCITY = 1000"
   ]
  },
  {
   "cell_type": "code",
   "execution_count": 61,
   "metadata": {},
   "outputs": [],
   "source": [
    "INPUT_FILE = 'input.txt'"
   ]
  },
  {
   "cell_type": "code",
   "execution_count": 62,
   "metadata": {},
   "outputs": [],
   "source": [
    "def parseRange(range):\n",
    "    return tuple(map(lambda x: int(x), range.split('..')))\n",
    "\n",
    "def parseTargetArea(line):\n",
    "    ranges = list(map(lambda x: x.strip()[2:], line[13:].split(\",\")))\n",
    "    return list(map(parseRange, ranges))\n",
    "\n",
    "with open(INPUT_FILE, \"r\") as file:\n",
    "    line = file.read().strip('\\n')\n",
    "    input = tuple(parseTargetArea(line))"
   ]
  },
  {
   "cell_type": "code",
   "execution_count": 63,
   "metadata": {},
   "outputs": [],
   "source": [
    "def updateVelocity(velocity):\n",
    "    deltaX = 0\n",
    "    if velocity[0] > 0:\n",
    "        deltaX = -1\n",
    "    elif velocity[0] < 0:\n",
    "        deltaX = 1\n",
    "    return (velocity[0] + deltaX, velocity[1] - 1)\n",
    "\n",
    "def simulateStep(velocity, position):\n",
    "    position = (position[0] + velocity[0], position[1] + velocity[1])\n",
    "    velocity = updateVelocity(velocity)\n",
    "    return velocity, position\n",
    "\n",
    "def isInTargetArea(position):\n",
    "    return position[0] >= input[0][0] and position[0] <= input[0][1] \\\n",
    "        and position[1] >= input[1][0] and position[1] <= input[1][1]\n",
    "\n",
    "def couldHitTargetArea(position, velocity):\n",
    "    # The following cases imply that the target can't hit the area\n",
    "    # If its below the target area and has a negative y velocity\n",
    "    if velocity[1] <= 0 and position[1] < input[1][0]:\n",
    "        return False\n",
    "\n",
    "    # If its to the right of the target area and has a positive x velocity\n",
    "    if velocity[0] >= 0 and position[0] > input[0][1]:\n",
    "        return False\n",
    "\n",
    "    # If its to the left of the target area and has a negative x velocity\n",
    "    if velocity[0] <= 0 and position[0] < input[0][0]:\n",
    "        return False\n",
    "\n",
    "    return True\n",
    "\n",
    "def simulateLaunch(initialVelocity):\n",
    "    steps = []\n",
    "    velocity = initialVelocity\n",
    "    position = (0, 0)\n",
    "    while couldHitTargetArea(position, velocity):\n",
    "        steps.append(position)\n",
    "        velocity, position = simulateStep(velocity, position)\n",
    "        if isInTargetArea(position):\n",
    "            return True, steps\n",
    "    return False, steps\n"
   ]
  },
  {
   "cell_type": "code",
   "execution_count": 64,
   "metadata": {},
   "outputs": [],
   "source": [
    "def getMaxHeight(path):\n",
    "    return max(map(lambda x: x[1], path))"
   ]
  },
  {
   "cell_type": "code",
   "execution_count": 65,
   "metadata": {},
   "outputs": [],
   "source": [
    "paths = []\n",
    "for i in range(-MAX_VELOCITY, MAX_VELOCITY):\n",
    "    for j in range(-MAX_VELOCITY, MAX_VELOCITY):\n",
    "        success, path = simulateLaunch((i, j))\n",
    "        if success:\n",
    "            paths.append(path)\n"
   ]
  },
  {
   "cell_type": "code",
   "execution_count": 66,
   "metadata": {},
   "outputs": [
    {
     "data": {
      "text/plain": [
       "5945"
      ]
     },
     "execution_count": 66,
     "metadata": {},
     "output_type": "execute_result"
    }
   ],
   "source": [
    "len(paths)"
   ]
  },
  {
   "cell_type": "code",
   "execution_count": 67,
   "metadata": {},
   "outputs": [
    {
     "data": {
      "text/plain": [
       "8646"
      ]
     },
     "execution_count": 67,
     "metadata": {},
     "output_type": "execute_result"
    }
   ],
   "source": [
    "max(map(getMaxHeight, paths))"
   ]
  }
 ],
 "metadata": {
  "interpreter": {
   "hash": "aee8b7b246df8f9039afb4144a1f6fd8d2ca17a180786b69acc140d282b71a49"
  },
  "kernelspec": {
   "display_name": "Python 3.10.1 64-bit",
   "language": "python",
   "name": "python3"
  },
  "language_info": {
   "codemirror_mode": {
    "name": "ipython",
    "version": 3
   },
   "file_extension": ".py",
   "mimetype": "text/x-python",
   "name": "python",
   "nbconvert_exporter": "python",
   "pygments_lexer": "ipython3",
   "version": "3.10.1"
  },
  "orig_nbformat": 4
 },
 "nbformat": 4,
 "nbformat_minor": 2
}
