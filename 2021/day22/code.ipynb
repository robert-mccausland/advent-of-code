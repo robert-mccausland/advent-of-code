{
 "cells": [
  {
   "cell_type": "code",
   "execution_count": 109,
   "metadata": {},
   "outputs": [],
   "source": [
    "def loadInput(filePath):\n",
    "  def parseLine(line):\n",
    "    def mapCuboidElement(element): \n",
    "      return tuple(map(lambda x: int(x), element.split('=')[1].split('..')))\n",
    "    first, second = line.strip('\\n').split(' ')\n",
    "    cuboid = tuple(map(mapCuboidElement, second.split(',')))\n",
    "    return {\n",
    "      'state': first,\n",
    "      'cuboid': cuboid,\n",
    "    }\n",
    "\n",
    "\n",
    "  with open(filePath, 'r') as file:\n",
    "    return tuple(map(parseLine, filter(lambda x: len(x) != 0, file.readlines())))"
   ]
  },
  {
   "cell_type": "code",
   "execution_count": 110,
   "metadata": {},
   "outputs": [],
   "source": [
    "def getBoxesInCuboid(cuboid):\n",
    "  for x in range(cuboid[0][0], cuboid[0][1] + 1):\n",
    "    for y in range(cuboid[1][0], cuboid[1][1] + 1):\n",
    "      for z in range(cuboid[2][0], cuboid[2][1] + 1):\n",
    "        yield (x, y, z)"
   ]
  },
  {
   "cell_type": "code",
   "execution_count": null,
   "metadata": {},
   "outputs": [],
   "source": [
    "def areIntersecting(a, b):\n",
    "  # 2D;\n",
    "\n",
    "  a[0][0]"
   ]
  },
  {
   "cell_type": "code",
   "execution_count": 111,
   "metadata": {},
   "outputs": [],
   "source": [
    "import numpy as np\n",
    "\n",
    "def runInstructions(instructions, volume):\n",
    "  size = tuple(map(lambda x: x[1] - x[0] + 1, volume))\n",
    "  offset = tuple(map(lambda x: x[1], volume))\n",
    "  boxes = np.full(size, False)\n",
    "\n",
    "\n",
    "\n",
    "  def runInstruction(instruction):\n",
    "    cuboid = instruction['cuboid']\n",
    "\n",
    "    # Check if instruction only effects cubes outside the volume, in which case we can skip it.\n",
    "    if all(map(lambda x: x[0][0] > x[1][0] or x[0][1] < x[1][1], zip(volume, cuboid))):\n",
    "      return\n",
    "\n",
    "    for box in getBoxesInCuboid(cuboid):\n",
    "      position = tuple(map(lambda x: sum(x), zip(offset, box)))\n",
    "      boxes[position] = instruction['state'] == 'on'\n",
    "\n",
    "  for instruction in instructions:\n",
    "    runInstruction(instruction)\n",
    "\n",
    "  return sum(1 for _ in filter(lambda x: x, boxes.flat))"
   ]
  },
  {
   "cell_type": "code",
   "execution_count": 112,
   "metadata": {},
   "outputs": [
    {
     "data": {
      "text/plain": [
       "658691"
      ]
     },
     "execution_count": 112,
     "metadata": {},
     "output_type": "execute_result"
    }
   ],
   "source": [
    "runInstructions(loadInput(\"input.txt\"), ((-50, 50), (-50, 50), (-50, 50)))"
   ]
  },
  {
   "cell_type": "code",
   "execution_count": 113,
   "metadata": {},
   "outputs": [
    {
     "ename": "IndentationError",
     "evalue": "expected an indented block after function definition on line 2 (Temp/ipykernel_26632/646169663.py, line 2)",
     "output_type": "error",
     "traceback": [
      "\u001b[1;36m  File \u001b[1;32m\"C:\\Users\\rober\\AppData\\Local\\Temp/ipykernel_26632/646169663.py\"\u001b[1;36m, line \u001b[1;32m2\u001b[0m\n\u001b[1;33m    def setCubes(volume, state):\u001b[0m\n\u001b[1;37m                                ^\u001b[0m\n\u001b[1;31mIndentationError\u001b[0m\u001b[1;31m:\u001b[0m expected an indented block after function definition on line 2\n"
     ]
    }
   ],
   "source": [
    "def getOverlaps(box1, box2):\n",
    "  intersections = \n",
    "    "
   ]
  }
 ],
 "metadata": {
  "interpreter": {
   "hash": "2be5faf79681da6f2a61fdfdd5405d65d042280f7fba6178067603e3a2925119"
  },
  "kernelspec": {
   "display_name": "Python 3.10.1 64-bit",
   "language": "python",
   "name": "python3"
  },
  "language_info": {
   "codemirror_mode": {
    "name": "ipython",
    "version": 3
   },
   "file_extension": ".py",
   "mimetype": "text/x-python",
   "name": "python",
   "nbconvert_exporter": "python",
   "pygments_lexer": "ipython3",
   "version": "3.10.1"
  },
  "orig_nbformat": 4
 },
 "nbformat": 4,
 "nbformat_minor": 2
}
