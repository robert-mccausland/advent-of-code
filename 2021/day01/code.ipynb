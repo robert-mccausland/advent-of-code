{
 "cells": [
  {
   "cell_type": "code",
   "execution_count": 11,
   "metadata": {},
   "outputs": [],
   "source": [
    "# Example input\n",
    "input = [199, 200, 208, 210, 200, 207, 240, 269, 260, 263]\n"
   ]
  },
  {
   "cell_type": "code",
   "execution_count": 14,
   "metadata": {},
   "outputs": [],
   "source": [
    "# My input\n",
    "with open(\"input.txt\", \"r\") as file:\n",
    "  fileData = file.read().split(\"\\n\")\n",
    "  input = list(map(lambda x: int(x), filter(lambda x: len(x) > 0, fileData)))\n"
   ]
  },
  {
   "cell_type": "code",
   "execution_count": 15,
   "metadata": {},
   "outputs": [],
   "source": [
    "# Calculate sliding window data\n",
    "slidingWindows = []\n",
    "for i in range(0, len(input) - 2):\n",
    "  slidingWindows.append(input[i] + input[i + 1] + input[i + 2])\n",
    "\n",
    "input = slidingWindows"
   ]
  },
  {
   "cell_type": "code",
   "execution_count": 16,
   "metadata": {},
   "outputs": [
    {
     "name": "stdout",
     "output_type": "stream",
     "text": [
      "1858\n"
     ]
    }
   ],
   "source": [
    "# Calculate number of increases\n",
    "\n",
    "increaseCount = 0\n",
    "previous = None\n",
    "for value in input:\n",
    "    if(previous != None and value > previous):\n",
    "        increaseCount += 1\n",
    "    previous = value\n",
    "\n",
    "print(increaseCount)\n"
   ]
  }
 ],
 "metadata": {
  "interpreter": {
   "hash": "63fd5069d213b44bf678585dea6b12cceca9941eaf7f819626cde1f2670de90d"
  },
  "kernelspec": {
   "display_name": "Python 3.9.4 64-bit",
   "language": "python",
   "name": "python3"
  },
  "language_info": {
   "codemirror_mode": {
    "name": "ipython",
    "version": 3
   },
   "file_extension": ".py",
   "mimetype": "text/x-python",
   "name": "python",
   "nbconvert_exporter": "python",
   "pygments_lexer": "ipython3",
   "version": "3.9.4"
  },
  "orig_nbformat": 4
 },
 "nbformat": 4,
 "nbformat_minor": 2
}
